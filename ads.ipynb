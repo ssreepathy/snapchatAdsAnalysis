{
 "cells": [
  {
   "cell_type": "markdown",
   "metadata": {},
   "source": [
    "# Snapchat Political Ads\n",
    "* **See the main project notebook for instructions to be sure you satisfy the rubric!**\n",
    "* See Project 03 for information on the dataset.\n",
    "* A few example prediction questions to pursue are listed below. However, don't limit yourself to them!\n",
    "    * Predict the reach (number of views) of an ad.\n",
    "    * Predict how much was spent on an ad.\n",
    "    * Predict the target group of an ad. (For example, predict the target gender.)\n",
    "    * Predict the (type of) organization/advertiser behind an ad.\n",
    "\n",
    "Be careful to justify what information you would know at the \"time of prediction\" and train your model using only those features."
   ]
  },
  {
   "cell_type": "markdown",
   "metadata": {},
   "source": [
    "# Summary of Findings\n",
    "\n",
    "\n",
    "### Introduction\n",
    "For this project, I will be using the Snapchat Political Ads data from 2018 and 2019 to create a machine learning pipeline model. For the model, I will attempt to predict the money spent on an ad based on other features like number of views (Impressions) or other features like radius targeting. In order to predict the money spent on a given ad, I am planning to use a regression model as supposed to a classification model as I am not trying to classify the money spent and am focusing on just trying to predict the money spent. I chose to predict money spent because of the many factors about the ad and its influence on the money spent on the ad. For the evaluation metric of this model, I chose to use R2_scpre of the model. With the R2_score metric, we can see the difference between the predicted money spent accourding of the model and the money actual spent. An r score as close to 1 as possible is the main objective of this regression model.\n",
    "\n",
    "### Baseline Model\n",
    "For the baseline model, I chose to use most of the columns excluding columns like Ad ID and urls which do not have any relationship with the money spent on the ad. I decided to not use the StartDate, EndDate, AdID, CreativeUrl, OrganizationName, BillingAddress, PayingAdvertiserName, CreativeProperties. For my features, all are nominal except for impressions which is quantitative. I decided to separate the rest of the columns of data into two groups which are either categorical or numerical data. For the categorical data, I decided to clean the data by replacing the missing values with what was recommended on the readme file which was similar to the procedure of the cleaning of data in the previous project. For the non missing data, I replaced this type of data with the value 'Some targeting' so that when you use one hot encoder, it does not results in hundreds of columns. For the categorical columns, I first used the SimpleImputer to fill all missing values with value 'NULL'. I then used OneHotEncoder ignoring unknown and with sparse set to False. For the numerical columns, I used SimpleImputer with strategy fill with the median to get rid of missing values. I applied both transformers within the pipeline model. I used train_test_split to split the data into data used to train the model and test data to check its accuracy with the pipeline score metric or r_2 score.  \n",
    "\n",
    "### Final Model\n",
    "For the final model, the first feature I engineered was creating a column that stated whether there were more than 3 kinds of targeting for each ad. The column contained the sum across the row of the label ‘Some targeting’ which I used to clean the data and also make it easier to do one-hot-encoding.  For values less than 3, it was replaced with the label ‘2 or less’ and ‘3 or more’ for values more than 3. After creating the column, I did one hot encoding and primary component analysis to remove unnecessary components. I also created another feature by taking the months of the start date and used one-hot encoding and primary component analysis to see the influence that the time of the year affects how much money spent on the ad. For the currency code, I applied values based on currency with the strongest value and replace the currency code with the currency value with respect to others and then like the other features I did one-hot-encoding and primary component analysis. I also standardized the numerical columns to somewhat mitigate the effect on outliers in the model and imputed values with the median as it is less subject to outliers. For the categorical features, I replaced the missing values with the label ‘NULL’ and I also did one-hot-encoding in the baseline but I also added primary component analysis to get rid of unnecessary information. Instead of using the linear regression model and other linear models from the sklearn linear_model library, I decided to use the ensemble library and decided to use RandomForestRegressor which significantly increased the r2_score of the model. To generate the training and testing data, I used train_test_split with the default 0.25 test size and random_state=0. In order to find the best model, I created a dictionary with all the models and \n",
    "and found the model with the highest cross validation score and used that as the best model in my grid search. In the grid search, I searched through different combination of parameters like n_estimators, max_features, and max_depth with 5 folds along the training data to find the best parameters for the best model. The r2_score went from around 0.83-0.87 with the RandomForestRegressor() with default parameters to around 0.87-0.9 with the best model which was the GradientBoostingRegressor() and the best parameters which were n_estimators being 200 and max_depth and max_features at 5. \n",
    "\n",
    "### Fairness Evaluation\n",
    "For the fairness evaluation, I chose to explore whether the model is fair when applied to ads whether they have more or less than 100,000 impressions (views). For the null hypothesis, the models are fair and there is no difference in R2_score when it comes to ads with more or less than 100,000 views. For the alternate hypothesis, the model is unfair and there is a difference in R2_score when it comes to ads with more or less than 100,000 views. In order to test the null hypothesis, I am running a permutation test to test the fairness of the model with respect to number of views. I shuffled the views column and find the difference in R2_scores for ads with less than 100k and more than 100k views and conduct that for many repetitions and see how many of those differences are as extreme as the observed difference in R2_scores for ads with less than 100k and more than 100k views. After running the permutation test and getting a p_value of 0.0 which was the probability of getting a difference as extreme as the observed difference, the model supports the alternate hypothesis and there is a difference in R2_scores based on number of views with less R2_scores with more views."
   ]
  },
  {
   "cell_type": "markdown",
   "metadata": {},
   "source": [
    "# Code"
   ]
  },
  {
   "cell_type": "code",
   "execution_count": 1,
   "metadata": {},
   "outputs": [],
   "source": [
    "import matplotlib.pyplot as plt\n",
    "import numpy as np\n",
    "import os\n",
    "import pandas as pd\n",
    "import seaborn as sns\n",
    "%matplotlib inline\n",
    "%config InlineBackend.figure_format = 'retina'  # Higher resolution figures"
   ]
  },
  {
   "cell_type": "code",
   "execution_count": 2,
   "metadata": {},
   "outputs": [],
   "source": [
    "fp_2018 = os.path.join('data', 'PoliticalAds_2018.csv')\n",
    "fp_2019 = os.path.join('data', 'PoliticalAds_2019.csv')\n",
    "ads_2018 = pd.read_csv(fp_2018)\n",
    "ads_2019 = pd.read_csv(fp_2019)\n",
    "ads = pd.concat([ads_2018, ads_2019], ignore_index=True)"
   ]
  },
  {
   "cell_type": "markdown",
   "metadata": {},
   "source": [
    "###### Convert Start and End Dates to Datetimes with time zone default UTC"
   ]
  },
  {
   "cell_type": "code",
   "execution_count": 3,
   "metadata": {},
   "outputs": [
    {
     "data": {
      "text/plain": [
       "Index(['ADID', 'CreativeUrl', 'Currency Code', 'Spend', 'Impressions',\n",
       "       'StartDate', 'EndDate', 'OrganizationName', 'BillingAddress',\n",
       "       'CandidateBallotInformation', 'PayingAdvertiserName', 'Gender',\n",
       "       'AgeBracket', 'CountryCode', 'Regions (Included)', 'Regions (Excluded)',\n",
       "       'Electoral Districts (Included)', 'Electoral Districts (Excluded)',\n",
       "       'Radius Targeting (Included)', 'Radius Targeting (Excluded)',\n",
       "       'Metros (Included)', 'Metros (Excluded)', 'Postal Codes (Included)',\n",
       "       'Postal Codes (Excluded)', 'Location Categories (Included)',\n",
       "       'Location Categories (Excluded)', 'Interests', 'OsType', 'Segments',\n",
       "       'Language', 'AdvancedDemographics', 'Targeting Connection Type',\n",
       "       'Targeting Carrier (ISP)', 'CreativeProperties'],\n",
       "      dtype='object')"
      ]
     },
     "execution_count": 3,
     "metadata": {},
     "output_type": "execute_result"
    }
   ],
   "source": [
    "ads['StartDate'] = pd.to_datetime(ads['StartDate'])\n",
    "ads['EndDate'] = pd.to_datetime(ads['EndDate'])\n",
    "ads.columns"
   ]
  },
  {
   "cell_type": "markdown",
   "metadata": {},
   "source": [
    "###### Cleaning the Data\n",
    "I used the readme file to fill missing values with appropriate values. For example if gender was empty, \n",
    "the read me stated that the targets all genders so I filled all the missing with all genders. I used the readme to fill in missing values because many of those missing values before cleaning actually have meaningful values so I filled those particular missing values so it would be what values are truly missing when assessing missingness."
   ]
  },
  {
   "cell_type": "code",
   "execution_count": 4,
   "metadata": {},
   "outputs": [],
   "source": [
    "ads['Gender'] = ads['Gender'].fillna('All genders')\n",
    "ads['AgeBracket'] = ads['AgeBracket'].fillna('All ages')\n",
    "ads['CountryCode'] = ads['CountryCode'].str.title()\n",
    "ads['CandidateBallotInformation'] = ads['CandidateBallotInformation'].fillna('No information provided')\n",
    "ads['Regions (Included)'] = ads['Regions (Included)'].fillna('None included')\n",
    "ads['Regions (Excluded)'] = ads['Regions (Excluded)'].fillna('All regions')\n",
    "ads['Electoral Districts (Included)'] = ads['Electoral Districts (Included)'].fillna('No electoral districts targeting')\n",
    "ads['Electoral Districts (Excluded)'] = ads['Electoral Districts (Excluded)'].fillna('All electoral districts')\n",
    "ads['Radius Targeting (Included)'] = ads['Radius Targeting (Included)'].fillna('No radius targeting')\n",
    "ads['Radius Targeting (Excluded)'] = ads['Radius Targeting (Excluded)'].fillna('Full radius')\n",
    "ads['Metros (Included)'] = ads['Metros (Included)'].fillna('No metros targeting')\n",
    "ads['Metros (Excluded)'] = ads['Metros (Excluded)'].fillna('All metros')\n",
    "ads['Postal Codes (Included)'] = ads['Postal Codes (Included)'].fillna('No postal codes targeting')\n",
    "ads['Postal Codes (Excluded)'] = ads['Postal Codes (Excluded)'].fillna('All postal codes')\n",
    "ads['Location Categories (Included)'] = ads['Location Categories (Included)'].fillna('No location categories targeting')\n",
    "ads.rename({'Location Categories (Exlcuded)': 'Location Categories (Excluded)'})\n",
    "ads['Location Categories (Excluded)'] = ads['Location Categories (Excluded)'].fillna('All location categories')\n",
    "ads['Interests'] = ads['Interests'].fillna('No interest targeting')\n",
    "ads['OsType'] = ads['OsType'].fillna('All operating systems')\n",
    "ads['Language'] = ads['Language'].fillna('No language targeting')\n",
    "ads['AdvancedDemographics'] = ads['AdvancedDemographics'].fillna('No 3rd party data')\n",
    "ads['Targeting Connection Type'] = ads['Targeting Connection Type'].fillna('No internet connection targeting')\n",
    "ads['Targeting Carrier (ISP)'] = ads['Targeting Carrier (ISP)'].fillna('All carrier types')"
   ]
  },
  {
   "cell_type": "markdown",
   "metadata": {},
   "source": [
    "### Baseline Model"
   ]
  },
  {
   "cell_type": "code",
   "execution_count": 5,
   "metadata": {},
   "outputs": [],
   "source": [
    "from sklearn.linear_model import LinearRegression, LogisticRegression, Lasso, Ridge, LassoLars\n",
    "from sklearn.preprocessing import FunctionTransformer, LabelEncoder, OrdinalEncoder\n",
    "from sklearn.preprocessing import OneHotEncoder\n",
    "from sklearn.pipeline import Pipeline, FeatureUnion\n",
    "from sklearn.compose import ColumnTransformer\n",
    "from sklearn.model_selection import GridSearchCV, KFold, cross_val_score\n",
    "from sklearn.decomposition import PCA\n",
    "from sklearn.impute import SimpleImputer\n",
    "from sklearn.preprocessing import StandardScaler\n",
    "from sklearn.ensemble import RandomForestClassifier\n",
    "from sklearn.gaussian_process import GaussianProcessRegressor\n",
    "from sklearn.svm import SVR\n",
    "from sklearn.metrics import r2_score\n",
    "\n",
    "from sklearn.tree import DecisionTreeRegressor\n",
    "from sklearn.ensemble import RandomForestRegressor, AdaBoostRegressor, GradientBoostingRegressor, ExtraTreesRegressor\n",
    "from sklearn.model_selection import train_test_split\n",
    "from sklearn.neighbors import KNeighborsRegressor\n",
    "from sklearn.model_selection import train_test_split\n",
    "from sklearn.base import BaseEstimator, TransformerMixin\n",
    "from sklearn.preprocessing import Binarizer"
   ]
  },
  {
   "cell_type": "markdown",
   "metadata": {},
   "source": [
    "Created a copy of the ads dataframe and saved the currencies and months as a series to be used later in the feature engineering for the final model. For the baseline model, I removed ADID, Start and End Date, Organization Name, Creative Url, BillingAddress, PayingAdvertiserName, and CreativeProperties because after applying unique to these columns it was clearly that there were too many unique values that would not neccessarily have any relationship with trying to predict how much money was spent on an ad."
   ]
  },
  {
   "cell_type": "code",
   "execution_count": 6,
   "metadata": {
    "scrolled": true
   },
   "outputs": [],
   "source": [
    "ads_copy = ads.copy()\n",
    "dates = ads_copy['StartDate']\n",
    "curr = ads_copy['Currency Code']\n",
    "months = ads_copy['StartDate'].dt.month\n",
    "ads_copy = ads_copy.drop(['ADID', 'StartDate', 'EndDate', 'OrganizationName', 'CreativeUrl', 'BillingAddress', 'PayingAdvertiserName', 'CreativeProperties'], axis=1)"
   ]
  },
  {
   "cell_type": "markdown",
   "metadata": {},
   "source": [
    "Separated the remaining columns into categorical and numerical columns to apply transformers separately"
   ]
  },
  {
   "cell_type": "code",
   "execution_count": 7,
   "metadata": {},
   "outputs": [],
   "source": [
    "types = ads_copy.drop(['Spend'], axis=1).dtypes\n",
    "catcols = types.loc[types == np.object].index.to_list()\n",
    "numcols = types.loc[types != np.object].index.to_list()"
   ]
  },
  {
   "cell_type": "markdown",
   "metadata": {},
   "source": [
    "To make one-hot-encoding more efficient with the nominal data, I decided to replace all values that illustrated some type of targeting with the label 'Some targeting'. In the previous project, I filled the missing values with what was recommended on the readme file so all original non-missing values would have the label 'Some targeting.'"
   ]
  },
  {
   "cell_type": "code",
   "execution_count": 8,
   "metadata": {
    "scrolled": true
   },
   "outputs": [],
   "source": [
    "with_age = ads_copy.loc[ads_copy['AgeBracket'] != 'All ages'].index\n",
    "ads_copy.loc[with_age, 'AgeBracket'] = 'Some targeting'\n",
    "with_gender = ads_copy.loc[ads_copy['Gender'] != 'All genders'].index\n",
    "ads_copy.loc[with_gender, 'Gender'] = 'Some targeting'\n",
    "with_info = ads_copy.loc[ads_copy['CandidateBallotInformation'] != 'No information provided'].index\n",
    "ads_copy.loc[with_info, 'CandidateBallotInformation'] = 'Some targeting'\n",
    "with_region_incl = ads_copy.loc[ads_copy['Regions (Included)'] != 'None included'].index\n",
    "ads_copy.loc[with_region_incl, 'Regions (Included)'] = 'Some targeting'\n",
    "with_region_excl = ads_copy.loc[ads_copy['Regions (Excluded)'] != 'All regions'].index\n",
    "ads_copy.loc[with_region_excl, 'Regions (Excluded)'] = 'Some targeting'\n",
    "with_elec_incl = ads_copy.loc[ads_copy['Electoral Districts (Included)'] != 'No electoral districts targeting'].index\n",
    "ads_copy.loc[with_elec_incl, 'Electoral Districts (Included)'] = 'Some targeting'\n",
    "with_elec_excl = ads_copy.loc[ads_copy['Electoral Districts (Excluded)'] != 'All electoral districts'].index\n",
    "ads_copy.loc[with_elec_excl, 'Electoral Districts (Excluded)'] = 'Some targeting'\n",
    "with_rad_incl = ads_copy.loc[ads_copy['Radius Targeting (Included)'] != 'No radius targeting'].index\n",
    "ads_copy.loc[with_rad_incl, 'Radius Targeting (Included)'] = 'Some targeting'\n",
    "with_rad_excl = ads_copy.loc[ads_copy['Radius Targeting (Excluded)'] != 'Full radius'].index\n",
    "ads_copy.loc[with_rad_excl, 'Radius Targeting (Excluded)'] = 'Some targeting'\n",
    "with_met_incl = ads_copy.loc[ads_copy['Metros (Included)'] != 'No metros targeting'].index\n",
    "ads_copy.loc[with_met_incl, 'Metros (Included)'] = 'Some targeting'\n",
    "with_met_excl = ads_copy.loc[ads_copy['Metros (Excluded)'] != 'All metros'].index\n",
    "ads_copy.loc[with_met_excl, 'Metros (Excluded)'] = 'Some targeting'\n",
    "with_post_incl = ads_copy.loc[ads_copy['Postal Codes (Included)'] != 'No postal codes targeting'].index\n",
    "ads_copy.loc[with_post_incl, 'Postal Codes (Included)'] = 'Some targeting'\n",
    "with_post_excl = ads_copy.loc[ads_copy['Postal Codes (Excluded)'] != 'All postal codes'].index\n",
    "ads_copy.loc[with_post_excl, 'Postal Codes (Excluded)'] = 'Some targeting'\n",
    "with_loc_incl = ads_copy.loc[ads_copy['Location Categories (Included)'] != 'No location categories targeting'].index\n",
    "ads_copy.loc[with_loc_incl, 'Location Categories (Included)'] = 'Some targeting'\n",
    "with_loc_excl = ads_copy.loc[ads_copy['Location Categories (Excluded)'] != 'All location categories'].index\n",
    "ads_copy.loc[with_loc_excl, 'Location Categories (Excluded)'] = 'Some targeting'\n",
    "with_interest = ads_copy.loc[ads_copy['Interests'] != 'No interest targeting'].index\n",
    "ads_copy.loc[with_interest, 'Interests'] = 'Some targeting'\n",
    "with_os = ads_copy.loc[ads_copy['OsType'] != 'All operating systems'].index\n",
    "ads_copy.loc[with_os, 'OsType'] = 'Some targeting'\n",
    "with_lang = ads_copy.loc[ads_copy['Language'] != 'No language targeting'].index\n",
    "ads_copy.loc[with_lang, 'Language'] = 'Some targeting'\n",
    "with_dem = ads_copy.loc[ads_copy['AdvancedDemographics'] != 'No 3rd party data'].index\n",
    "ads_copy.loc[with_dem, 'AdvancedDemographics'] = 'Some targeting'\n",
    "with_target = ads_copy.loc[ads_copy['Targeting Connection Type'] != 'No internet connection targeting'].index\n",
    "ads_copy.loc[with_target, 'Targeting Connection Type'] = 'Some targeting'\n",
    "with_carr = ads_copy.loc[ads_copy['Targeting Carrier (ISP)'] != 'All carrier types'].index\n",
    "ads_copy.loc[with_carr, 'Targeting Carrier (ISP)'] = 'Some targeting'"
   ]
  },
  {
   "cell_type": "code",
   "execution_count": 9,
   "metadata": {},
   "outputs": [
    {
     "data": {
      "text/html": [
       "<div>\n",
       "<style scoped>\n",
       "    .dataframe tbody tr th:only-of-type {\n",
       "        vertical-align: middle;\n",
       "    }\n",
       "\n",
       "    .dataframe tbody tr th {\n",
       "        vertical-align: top;\n",
       "    }\n",
       "\n",
       "    .dataframe thead th {\n",
       "        text-align: right;\n",
       "    }\n",
       "</style>\n",
       "<table border=\"1\" class=\"dataframe\">\n",
       "  <thead>\n",
       "    <tr style=\"text-align: right;\">\n",
       "      <th></th>\n",
       "      <th>Currency Code</th>\n",
       "      <th>Spend</th>\n",
       "      <th>Impressions</th>\n",
       "      <th>CandidateBallotInformation</th>\n",
       "      <th>Gender</th>\n",
       "      <th>AgeBracket</th>\n",
       "      <th>CountryCode</th>\n",
       "      <th>Regions (Included)</th>\n",
       "      <th>Regions (Excluded)</th>\n",
       "      <th>Electoral Districts (Included)</th>\n",
       "      <th>...</th>\n",
       "      <th>Postal Codes (Excluded)</th>\n",
       "      <th>Location Categories (Included)</th>\n",
       "      <th>Location Categories (Excluded)</th>\n",
       "      <th>Interests</th>\n",
       "      <th>OsType</th>\n",
       "      <th>Segments</th>\n",
       "      <th>Language</th>\n",
       "      <th>AdvancedDemographics</th>\n",
       "      <th>Targeting Connection Type</th>\n",
       "      <th>Targeting Carrier (ISP)</th>\n",
       "    </tr>\n",
       "  </thead>\n",
       "  <tbody>\n",
       "    <tr>\n",
       "      <th>0</th>\n",
       "      <td>EUR</td>\n",
       "      <td>6000</td>\n",
       "      <td>2080852</td>\n",
       "      <td>No information provided</td>\n",
       "      <td>All genders</td>\n",
       "      <td>All ages</td>\n",
       "      <td>Denmark</td>\n",
       "      <td>None included</td>\n",
       "      <td>All regions</td>\n",
       "      <td>No electoral districts targeting</td>\n",
       "      <td>...</td>\n",
       "      <td>All postal codes</td>\n",
       "      <td>No location categories targeting</td>\n",
       "      <td>All location categories</td>\n",
       "      <td>No interest targeting</td>\n",
       "      <td>All operating systems</td>\n",
       "      <td>Provided by Advertiser</td>\n",
       "      <td>No language targeting</td>\n",
       "      <td>No 3rd party data</td>\n",
       "      <td>No internet connection targeting</td>\n",
       "      <td>All carrier types</td>\n",
       "    </tr>\n",
       "    <tr>\n",
       "      <th>1</th>\n",
       "      <td>USD</td>\n",
       "      <td>306</td>\n",
       "      <td>164497</td>\n",
       "      <td>No information provided</td>\n",
       "      <td>All genders</td>\n",
       "      <td>All ages</td>\n",
       "      <td>United States</td>\n",
       "      <td>None included</td>\n",
       "      <td>All regions</td>\n",
       "      <td>No electoral districts targeting</td>\n",
       "      <td>...</td>\n",
       "      <td>All postal codes</td>\n",
       "      <td>No location categories targeting</td>\n",
       "      <td>All location categories</td>\n",
       "      <td>No interest targeting</td>\n",
       "      <td>All operating systems</td>\n",
       "      <td>NaN</td>\n",
       "      <td>Some targeting</td>\n",
       "      <td>No 3rd party data</td>\n",
       "      <td>No internet connection targeting</td>\n",
       "      <td>All carrier types</td>\n",
       "    </tr>\n",
       "    <tr>\n",
       "      <th>2</th>\n",
       "      <td>GBP</td>\n",
       "      <td>445</td>\n",
       "      <td>232906</td>\n",
       "      <td>No information provided</td>\n",
       "      <td>All genders</td>\n",
       "      <td>Some targeting</td>\n",
       "      <td>United Kingdom</td>\n",
       "      <td>None included</td>\n",
       "      <td>All regions</td>\n",
       "      <td>No electoral districts targeting</td>\n",
       "      <td>...</td>\n",
       "      <td>All postal codes</td>\n",
       "      <td>No location categories targeting</td>\n",
       "      <td>All location categories</td>\n",
       "      <td>No interest targeting</td>\n",
       "      <td>All operating systems</td>\n",
       "      <td>Provided by Advertiser</td>\n",
       "      <td>No language targeting</td>\n",
       "      <td>No 3rd party data</td>\n",
       "      <td>No internet connection targeting</td>\n",
       "      <td>All carrier types</td>\n",
       "    </tr>\n",
       "    <tr>\n",
       "      <th>3</th>\n",
       "      <td>USD</td>\n",
       "      <td>60</td>\n",
       "      <td>12883</td>\n",
       "      <td>No information provided</td>\n",
       "      <td>Some targeting</td>\n",
       "      <td>Some targeting</td>\n",
       "      <td>United States</td>\n",
       "      <td>Some targeting</td>\n",
       "      <td>All regions</td>\n",
       "      <td>No electoral districts targeting</td>\n",
       "      <td>...</td>\n",
       "      <td>All postal codes</td>\n",
       "      <td>No location categories targeting</td>\n",
       "      <td>All location categories</td>\n",
       "      <td>No interest targeting</td>\n",
       "      <td>All operating systems</td>\n",
       "      <td>Provided by Advertiser</td>\n",
       "      <td>No language targeting</td>\n",
       "      <td>Some targeting</td>\n",
       "      <td>No internet connection targeting</td>\n",
       "      <td>All carrier types</td>\n",
       "    </tr>\n",
       "    <tr>\n",
       "      <th>4</th>\n",
       "      <td>USD</td>\n",
       "      <td>3403</td>\n",
       "      <td>964607</td>\n",
       "      <td>No information provided</td>\n",
       "      <td>All genders</td>\n",
       "      <td>Some targeting</td>\n",
       "      <td>United States</td>\n",
       "      <td>Some targeting</td>\n",
       "      <td>All regions</td>\n",
       "      <td>No electoral districts targeting</td>\n",
       "      <td>...</td>\n",
       "      <td>All postal codes</td>\n",
       "      <td>No location categories targeting</td>\n",
       "      <td>All location categories</td>\n",
       "      <td>Some targeting</td>\n",
       "      <td>All operating systems</td>\n",
       "      <td>Provided by Advertiser</td>\n",
       "      <td>No language targeting</td>\n",
       "      <td>No 3rd party data</td>\n",
       "      <td>No internet connection targeting</td>\n",
       "      <td>All carrier types</td>\n",
       "    </tr>\n",
       "  </tbody>\n",
       "</table>\n",
       "<p>5 rows × 26 columns</p>\n",
       "</div>"
      ],
      "text/plain": [
       "  Currency Code  Spend  Impressions CandidateBallotInformation  \\\n",
       "0           EUR   6000      2080852    No information provided   \n",
       "1           USD    306       164497    No information provided   \n",
       "2           GBP    445       232906    No information provided   \n",
       "3           USD     60        12883    No information provided   \n",
       "4           USD   3403       964607    No information provided   \n",
       "\n",
       "           Gender      AgeBracket     CountryCode Regions (Included)  \\\n",
       "0     All genders        All ages         Denmark      None included   \n",
       "1     All genders        All ages   United States      None included   \n",
       "2     All genders  Some targeting  United Kingdom      None included   \n",
       "3  Some targeting  Some targeting   United States     Some targeting   \n",
       "4     All genders  Some targeting   United States     Some targeting   \n",
       "\n",
       "  Regions (Excluded)    Electoral Districts (Included)  ...  \\\n",
       "0        All regions  No electoral districts targeting  ...   \n",
       "1        All regions  No electoral districts targeting  ...   \n",
       "2        All regions  No electoral districts targeting  ...   \n",
       "3        All regions  No electoral districts targeting  ...   \n",
       "4        All regions  No electoral districts targeting  ...   \n",
       "\n",
       "  Postal Codes (Excluded)    Location Categories (Included)  \\\n",
       "0        All postal codes  No location categories targeting   \n",
       "1        All postal codes  No location categories targeting   \n",
       "2        All postal codes  No location categories targeting   \n",
       "3        All postal codes  No location categories targeting   \n",
       "4        All postal codes  No location categories targeting   \n",
       "\n",
       "  Location Categories (Excluded)              Interests  \\\n",
       "0        All location categories  No interest targeting   \n",
       "1        All location categories  No interest targeting   \n",
       "2        All location categories  No interest targeting   \n",
       "3        All location categories  No interest targeting   \n",
       "4        All location categories         Some targeting   \n",
       "\n",
       "                  OsType                Segments               Language  \\\n",
       "0  All operating systems  Provided by Advertiser  No language targeting   \n",
       "1  All operating systems                     NaN         Some targeting   \n",
       "2  All operating systems  Provided by Advertiser  No language targeting   \n",
       "3  All operating systems  Provided by Advertiser  No language targeting   \n",
       "4  All operating systems  Provided by Advertiser  No language targeting   \n",
       "\n",
       "  AdvancedDemographics         Targeting Connection Type  \\\n",
       "0    No 3rd party data  No internet connection targeting   \n",
       "1    No 3rd party data  No internet connection targeting   \n",
       "2    No 3rd party data  No internet connection targeting   \n",
       "3       Some targeting  No internet connection targeting   \n",
       "4    No 3rd party data  No internet connection targeting   \n",
       "\n",
       "  Targeting Carrier (ISP)  \n",
       "0       All carrier types  \n",
       "1       All carrier types  \n",
       "2       All carrier types  \n",
       "3       All carrier types  \n",
       "4       All carrier types  \n",
       "\n",
       "[5 rows x 26 columns]"
      ]
     },
     "execution_count": 9,
     "metadata": {},
     "output_type": "execute_result"
    }
   ],
   "source": [
    "ads_copy.head()"
   ]
  },
  {
   "cell_type": "markdown",
   "metadata": {},
   "source": [
    "For the nominal data, I imputed the missing values if there were any with the value 'NULL' even though I imputed these missing values in the previous project but if there was missingness the SimpleImputer would take care of those issues. I also used OneHotEncoder to separate the data and see how the values of each column influenced money spent. For the quantative data, I simply imputed the missing values with the median because the median is more resistant to outliers that simply imputing with the mean."
   ]
  },
  {
   "cell_type": "code",
   "execution_count": 10,
   "metadata": {},
   "outputs": [],
   "source": [
    "cat_transformer = Pipeline(steps=[('imp', SimpleImputer(strategy='constant', fill_value='NULL')),\n",
    "                                 ('ohe', OneHotEncoder(handle_unknown='ignore', sparse=False))])\n",
    "num_transformer = Pipeline(steps=[('imp', SimpleImputer(strategy='median'))])"
   ]
  },
  {
   "cell_type": "markdown",
   "metadata": {},
   "source": [
    "###### Created a column transformer to be applied in the pipeline for the baseline model"
   ]
  },
  {
   "cell_type": "code",
   "execution_count": 11,
   "metadata": {},
   "outputs": [],
   "source": [
    "preproc = ColumnTransformer(transformers=[('cat', cat_transformer, catcols),\n",
    "                                         ('num', num_transformer, numcols)])"
   ]
  },
  {
   "cell_type": "markdown",
   "metadata": {},
   "source": [
    "###### Created a baseline model using the column transformer of the quantitative and nominal data and used linear regression as the regression model"
   ]
  },
  {
   "cell_type": "code",
   "execution_count": 12,
   "metadata": {},
   "outputs": [],
   "source": [
    "pl_base = Pipeline(steps=[('preproc', preproc), ('reg', LinearRegression())])"
   ]
  },
  {
   "cell_type": "markdown",
   "metadata": {},
   "source": [
    "###### Split the data into training and testing data "
   ]
  },
  {
   "cell_type": "code",
   "execution_count": 13,
   "metadata": {},
   "outputs": [],
   "source": [
    "X_train, X_test, y_train, y_test = train_test_split(ads_copy.drop(['Spend'], axis=1), ads_copy.Spend, random_state=0)"
   ]
  },
  {
   "cell_type": "code",
   "execution_count": 14,
   "metadata": {
    "scrolled": false
   },
   "outputs": [
    {
     "data": {
      "text/plain": [
       "Pipeline(memory=None,\n",
       "         steps=[('preproc',\n",
       "                 ColumnTransformer(n_jobs=None, remainder='drop',\n",
       "                                   sparse_threshold=0.3,\n",
       "                                   transformer_weights=None,\n",
       "                                   transformers=[('cat',\n",
       "                                                  Pipeline(memory=None,\n",
       "                                                           steps=[('imp',\n",
       "                                                                   SimpleImputer(add_indicator=False,\n",
       "                                                                                 copy=True,\n",
       "                                                                                 fill_value='NULL',\n",
       "                                                                                 missing_values=nan,\n",
       "                                                                                 strategy='constant',\n",
       "                                                                                 verbose=0)),\n",
       "                                                                  ('ohe',\n",
       "                                                                   OneHotEncoder(categories='auto',\n",
       "                                                                                 drop=None,...\n",
       "                                                   'Targeting Connection Type',\n",
       "                                                   'Targeting Carrier (ISP)']),\n",
       "                                                 ('num',\n",
       "                                                  Pipeline(memory=None,\n",
       "                                                           steps=[('imp',\n",
       "                                                                   SimpleImputer(add_indicator=False,\n",
       "                                                                                 copy=True,\n",
       "                                                                                 fill_value=None,\n",
       "                                                                                 missing_values=nan,\n",
       "                                                                                 strategy='median',\n",
       "                                                                                 verbose=0))],\n",
       "                                                           verbose=False),\n",
       "                                                  ['Impressions'])],\n",
       "                                   verbose=False)),\n",
       "                ('reg',\n",
       "                 LinearRegression(copy_X=True, fit_intercept=True, n_jobs=None,\n",
       "                                  normalize=False))],\n",
       "         verbose=False)"
      ]
     },
     "execution_count": 14,
     "metadata": {},
     "output_type": "execute_result"
    }
   ],
   "source": [
    "pl_base.fit(X_train, y_train)"
   ]
  },
  {
   "cell_type": "markdown",
   "metadata": {},
   "source": [
    "###### Predictions based on the data"
   ]
  },
  {
   "cell_type": "code",
   "execution_count": 15,
   "metadata": {},
   "outputs": [],
   "source": [
    "preds = pl_base.predict(ads_copy.drop('Spend', axis=1))"
   ]
  },
  {
   "cell_type": "markdown",
   "metadata": {},
   "source": [
    "###### R2_score of the baseline model"
   ]
  },
  {
   "cell_type": "code",
   "execution_count": 16,
   "metadata": {},
   "outputs": [
    {
     "data": {
      "text/plain": [
       "0.5907277536558709"
      ]
     },
     "execution_count": 16,
     "metadata": {},
     "output_type": "execute_result"
    }
   ],
   "source": [
    "r_score = pl_base.score(X_test, y_test)\n",
    "r_score"
   ]
  },
  {
   "cell_type": "markdown",
   "metadata": {},
   "source": [
    "###### Histogram of the R2_scores produced by the baseline model"
   ]
  },
  {
   "cell_type": "code",
   "execution_count": 17,
   "metadata": {},
   "outputs": [],
   "source": [
    "out = []\n",
    "for _ in range(50):\n",
    "    X_tr, X_ts, y_tr, y_ts = train_test_split(ads_copy.drop('Spend', axis=1), ads_copy.Spend)\n",
    "    pl_base.fit(X_tr, y_tr)\n",
    "    score = pl_base.score(X_ts, y_ts)\n",
    "    out.append(score)"
   ]
  },
  {
   "cell_type": "code",
   "execution_count": 18,
   "metadata": {},
   "outputs": [
    {
     "data": {
      "image/png": "[encoded data removed]",
      "text/plain": [
       "<Figure size 432x288 with 1 Axes>"
      ]
     },
     "metadata": {
      "image/png": {
       "height": 263,
       "width": 382
      },
      "needs_background": "light"
     },
     "output_type": "display_data"
    }
   ],
   "source": [
    "pd.Series(out).plot(kind='hist', title='scores in 50 model builds');"
   ]
  },
  {
   "cell_type": "markdown",
   "metadata": {},
   "source": [
    "### Final Model"
   ]
  },
  {
   "cell_type": "markdown",
   "metadata": {},
   "source": [
    "###### Created a new transformed to select the columns of the dataframe"
   ]
  },
  {
   "cell_type": "code",
   "execution_count": 19,
   "metadata": {},
   "outputs": [],
   "source": [
    "class SelectColumns(BaseEstimator, TransformerMixin):\n",
    "    def __init__(self, cols):\n",
    "        self.cols = cols\n",
    "    def fit(self, X, y=None):\n",
    "        return self\n",
    "    def transform(self, X):\n",
    "        return X[self.cols]"
   ]
  },
  {
   "cell_type": "markdown",
   "metadata": {},
   "source": [
    "###### First Engineered Feature\n",
    "I summed the number of columns with the label Some targeting across each row and created a column of the dataframe stating whether an ad had at least 3 types of targeting or not. I would eventually use one-hot-encoding for this newly created column"
   ]
  },
  {
   "cell_type": "code",
   "execution_count": 20,
   "metadata": {
    "scrolled": true
   },
   "outputs": [],
   "source": [
    "cat_df = ads_copy[catcols].copy()\n",
    "cat = cat_df.drop(['Currency Code'], axis=1)\n",
    "targeting = (cat == 'Some targeting').astype(int).sum(axis=1)\n",
    "more_than_three = targeting >= 3\n",
    "more_than_three_repl = {\n",
    "    False: '2 or less',\n",
    "    True: '3 or more'\n",
    "}\n",
    "three_types_plus = more_than_three.replace(more_than_three_repl)\n",
    "three_types_plus\n",
    "ads_copy['3+ Types of Targeting'] = three_types_plus\n",
    "catcols = list(cat.columns)"
   ]
  },
  {
   "cell_type": "markdown",
   "metadata": {},
   "source": [
    "Creating a column for months of ad release"
   ]
  },
  {
   "cell_type": "code",
   "execution_count": 21,
   "metadata": {},
   "outputs": [],
   "source": [
    "ads_copy['Month'] = months"
   ]
  },
  {
   "cell_type": "markdown",
   "metadata": {},
   "source": [
    "Transformer that takes the newly created feature for whether an ad has at least 3 types of targeting and one-hot-encodes that newly created nominal column as well as uses primary component analysis to get rid of extra information"
   ]
  },
  {
   "cell_type": "code",
   "execution_count": 22,
   "metadata": {},
   "outputs": [],
   "source": [
    "targeting_transformer = Pipeline(steps=[('ohe', OneHotEncoder(handle_unknown='ignore', sparse=False)),\n",
    "                                       ('pca', PCA(svd_solver='full', n_components=0.99))])"
   ]
  },
  {
   "cell_type": "markdown",
   "metadata": {},
   "source": [
    "Transformer that takes the newly created feature for month ad ad was released and one-hot-encodes that newly created nominal column as well as uses primary component analysis to get rid of extra information. In order to impute missing values I chose to fill it with the most frequent value because median and mean did not make sense when dealing with months as it is nominal and not quantative"
   ]
  },
  {
   "cell_type": "code",
   "execution_count": 23,
   "metadata": {},
   "outputs": [],
   "source": [
    "month_transformer = Pipeline(steps=[('mon', SelectColumns(['Month'])),\n",
    "                                    ('imp', SimpleImputer(strategy='most_frequent')),\n",
    "                                     ('ohe', OneHotEncoder(handle_unknown='ignore', sparse=False)),\n",
    "                                     ('pca', PCA(svd_solver='full', n_components=0.99))])"
   ]
  },
  {
   "cell_type": "markdown",
   "metadata": {},
   "source": [
    "Dictionary to replace all currency codes with its rating based on strength of currency. 0-4 for currencies with 0 being the currency with the lowest value"
   ]
  },
  {
   "cell_type": "code",
   "execution_count": 24,
   "metadata": {},
   "outputs": [],
   "source": [
    "currency_dict = {\n",
    "    'EUR': 3,\n",
    "    'USD': 2,\n",
    "    'CAD': 1,\n",
    "    'AUD': 0,\n",
    "    'GBP': 4\n",
    "}\n",
    "curr_repl = curr.replace(currency_dict)\n",
    "ads_copy['Currency Code'] = curr_repl"
   ]
  },
  {
   "cell_type": "markdown",
   "metadata": {},
   "source": [
    "Transformer to impute currencies with most frequent since it is an ordinal column and uses one-hot-encoding and primary component analysis to drop extra information"
   ]
  },
  {
   "cell_type": "code",
   "execution_count": 25,
   "metadata": {},
   "outputs": [],
   "source": [
    "curr_transformer = Pipeline(steps=[('curr', SelectColumns(['Currency Code'])),\n",
    "                                   ('imp', SimpleImputer(strategy='most_frequent')),\n",
    "                                  ('ohe', OneHotEncoder(handle_unknown='ignore', sparse=False)),\n",
    "                                  ('pca', PCA(svd_solver='full', n_components=0.99))])"
   ]
  },
  {
   "cell_type": "code",
   "execution_count": 26,
   "metadata": {},
   "outputs": [],
   "source": [
    "cat_transformer = Pipeline(steps=[('cat', SelectColumns(catcols)),\n",
    "                                  ('imp', SimpleImputer(strategy='constant', fill_value='NULL')),\n",
    "                                 ('ohe', OneHotEncoder(handle_unknown='ignore', sparse=False)), \n",
    "                                 ('PCA', PCA(svd_solver='full', n_components=0.99))])"
   ]
  },
  {
   "cell_type": "markdown",
   "metadata": {},
   "source": [
    "Unlike the baseline model, I am using standard scaling on the quantative data to reduce the effect of outliers on predictions based on the pipeline"
   ]
  },
  {
   "cell_type": "code",
   "execution_count": 27,
   "metadata": {},
   "outputs": [],
   "source": [
    "scale_transformer = Pipeline(steps=[('by', SelectColumns(numcols)),\n",
    "                                    ('imp', SimpleImputer(strategy='median')),\n",
    "                                    ('scale', StandardScaler())])"
   ]
  },
  {
   "cell_type": "markdown",
   "metadata": {},
   "source": [
    "###### Column transformer to implement all the previous transformers on the dataframe"
   ]
  },
  {
   "cell_type": "code",
   "execution_count": 28,
   "metadata": {},
   "outputs": [],
   "source": [
    "proc = ColumnTransformer(transformers=[('cat', cat_transformer, catcols),\n",
    "                                       ('target', targeting_transformer, ['3+ Types of Targeting']),\n",
    "                                       ('curr', curr_transformer, ['Currency Code']),\n",
    "                                       ('scale', scale_transformer, numcols),\n",
    "                                      ('month', month_transformer, ['Month'])\n",
    "                                      ])"
   ]
  },
  {
   "cell_type": "markdown",
   "metadata": {},
   "source": [
    "###### Creating a new pipeline with the column transformer and instead using RandomForestRegressor as the regression model"
   ]
  },
  {
   "cell_type": "code",
   "execution_count": 29,
   "metadata": {},
   "outputs": [],
   "source": [
    "pl = Pipeline(steps=[('proc', proc), ('reg', RandomForestRegressor())])"
   ]
  },
  {
   "cell_type": "markdown",
   "metadata": {},
   "source": [
    "###### Split the data into training and testing data "
   ]
  },
  {
   "cell_type": "code",
   "execution_count": 30,
   "metadata": {},
   "outputs": [],
   "source": [
    "X_train, X_test, y_train, y_test = train_test_split(ads_copy.drop(['Spend'], axis=1), ads_copy.Spend, random_state=0)"
   ]
  },
  {
   "cell_type": "code",
   "execution_count": 31,
   "metadata": {},
   "outputs": [
    {
     "data": {
      "text/plain": [
       "Pipeline(memory=None,\n",
       "         steps=[('proc',\n",
       "                 ColumnTransformer(n_jobs=None, remainder='drop',\n",
       "                                   sparse_threshold=0.3,\n",
       "                                   transformer_weights=None,\n",
       "                                   transformers=[('cat',\n",
       "                                                  Pipeline(memory=None,\n",
       "                                                           steps=[('cat',\n",
       "                                                                   SelectColumns(cols=['CandidateBallotInformation',\n",
       "                                                                                       'Gender',\n",
       "                                                                                       'AgeBracket',\n",
       "                                                                                       'CountryCode',\n",
       "                                                                                       'Regions '\n",
       "                                                                                       '(Included)',\n",
       "                                                                                       'Regions '\n",
       "                                                                                       '(Excluded)',\n",
       "                                                                                       'Electoral '\n",
       "                                                                                       'Districts '\n",
       "                                                                                       '(Included)',\n",
       "                                                                                       '...\n",
       "                 RandomForestRegressor(bootstrap=True, ccp_alpha=0.0,\n",
       "                                       criterion='mse', max_depth=None,\n",
       "                                       max_features='auto', max_leaf_nodes=None,\n",
       "                                       max_samples=None,\n",
       "                                       min_impurity_decrease=0.0,\n",
       "                                       min_impurity_split=None,\n",
       "                                       min_samples_leaf=1, min_samples_split=2,\n",
       "                                       min_weight_fraction_leaf=0.0,\n",
       "                                       n_estimators=100, n_jobs=None,\n",
       "                                       oob_score=False, random_state=None,\n",
       "                                       verbose=0, warm_start=False))],\n",
       "         verbose=False)"
      ]
     },
     "execution_count": 31,
     "metadata": {},
     "output_type": "execute_result"
    }
   ],
   "source": [
    "pl.fit(X_train, y_train)"
   ]
  },
  {
   "cell_type": "markdown",
   "metadata": {},
   "source": [
    "###### Predictions based on the training data"
   ]
  },
  {
   "cell_type": "code",
   "execution_count": 32,
   "metadata": {},
   "outputs": [],
   "source": [
    "preds = pl.predict(ads_copy.drop('Spend', axis=1))"
   ]
  },
  {
   "cell_type": "markdown",
   "metadata": {},
   "source": [
    "###### R2_score of the improved model"
   ]
  },
  {
   "cell_type": "code",
   "execution_count": 33,
   "metadata": {},
   "outputs": [
    {
     "data": {
      "text/plain": [
       "0.8764331821811764"
      ]
     },
     "execution_count": 33,
     "metadata": {},
     "output_type": "execute_result"
    }
   ],
   "source": [
    "r_score = pl.score(X_test, y_test)\n",
    "r_score"
   ]
  },
  {
   "cell_type": "markdown",
   "metadata": {},
   "source": [
    "###### Histograms of the R2_scores produced by the improved model"
   ]
  },
  {
   "cell_type": "code",
   "execution_count": 34,
   "metadata": {},
   "outputs": [],
   "source": [
    "out = []\n",
    "for _ in range(50):\n",
    "    X_tr, X_ts, y_tr, y_ts = train_test_split(ads_copy.drop(['Spend'], axis=1), ads_copy.Spend, random_state=0)    \n",
    "    pl.fit(X_tr, y_tr)\n",
    "    score = pl.score(X_ts, y_ts)\n",
    "    out.append(score)"
   ]
  },
  {
   "cell_type": "code",
   "execution_count": 35,
   "metadata": {},
   "outputs": [
    {
     "data": {
      "image/png": "[encoded data removed]",
      "text/plain": [
       "<Figure size 432x288 with 1 Axes>"
      ]
     },
     "metadata": {
      "image/png": {
       "height": 263,
       "width": 376
      },
      "needs_background": "light"
     },
     "output_type": "display_data"
    }
   ],
   "source": [
    "pd.Series(out).plot(kind='hist', title='scores in 50 model builds');"
   ]
  },
  {
   "cell_type": "markdown",
   "metadata": {},
   "source": [
    "We want to find the best model so I created a dictionary of all potential models whether they come from the linear model library or the ensemble library"
   ]
  },
  {
   "cell_type": "code",
   "execution_count": 36,
   "metadata": {},
   "outputs": [],
   "source": [
    "models = []\n",
    "model_stds = {}\n",
    "model_scores = {}\n",
    "models.append(('LR', LinearRegression()))\n",
    "models.append(('KNR', KNeighborsRegressor()))\n",
    "models.append(('DTR', DecisionTreeRegressor()))\n",
    "models.append(('AB', AdaBoostRegressor()))\n",
    "models.append(('GBM', GradientBoostingRegressor()))\n",
    "models.append(('RF', RandomForestRegressor()))\n",
    "models.append(('ET', ExtraTreesRegressor()))\n",
    "models = dict(models)"
   ]
  },
  {
   "cell_type": "markdown",
   "metadata": {},
   "source": [
    "I created training and testing data and used each model in the previous dictionary. For each model, I created a pipeline applying the previous column transformer from the improved model and changed the model by looping through the dictionary of models. For each model I found the median of the cross validation scores with five folds across the training data."
   ]
  },
  {
   "cell_type": "code",
   "execution_count": 37,
   "metadata": {},
   "outputs": [],
   "source": [
    "from sklearn.model_selection import cross_validate"
   ]
  },
  {
   "cell_type": "code",
   "execution_count": 38,
   "metadata": {},
   "outputs": [],
   "source": [
    "X_train = ads_copy.drop('Spend', axis=1)\n",
    "y_train = ads_copy.Spend\n",
    "X_train, X_test, y_train, y_test = train_test_split(X_train, y_train, random_state=0)\n",
    "for name, model in models.items():\n",
    "    pl = Pipeline(steps=[('proc', proc), ('mod', model)])\n",
    "    pl.fit(X_train, y_train)\n",
    "    score = pl.score(X_test, y_test)\n",
    "    cross_val = cross_val_score(pl, X_train, y_train, cv=5)\n",
    "    model_scores[name] = np.median(cross_val)"
   ]
  },
  {
   "cell_type": "markdown",
   "metadata": {},
   "source": [
    "Finding the name of the model with the highest cross validation score median"
   ]
  },
  {
   "cell_type": "code",
   "execution_count": 39,
   "metadata": {},
   "outputs": [],
   "source": [
    "max_score = max(model_scores.values())\n",
    "for name, score in model_scores.items():\n",
    "    if score == max_score:\n",
    "        model_name = name"
   ]
  },
  {
   "cell_type": "markdown",
   "metadata": {},
   "source": [
    "Finding the best model to eventually search for best parameters"
   ]
  },
  {
   "cell_type": "code",
   "execution_count": 40,
   "metadata": {},
   "outputs": [
    {
     "data": {
      "text/plain": [
       "GradientBoostingRegressor(alpha=0.9, ccp_alpha=0.0, criterion='friedman_mse',\n",
       "                          init=None, learning_rate=0.1, loss='ls', max_depth=3,\n",
       "                          max_features=None, max_leaf_nodes=None,\n",
       "                          min_impurity_decrease=0.0, min_impurity_split=None,\n",
       "                          min_samples_leaf=1, min_samples_split=2,\n",
       "                          min_weight_fraction_leaf=0.0, n_estimators=100,\n",
       "                          n_iter_no_change=None, presort='deprecated',\n",
       "                          random_state=None, subsample=1.0, tol=0.0001,\n",
       "                          validation_fraction=0.1, verbose=0, warm_start=False)"
      ]
     },
     "execution_count": 40,
     "metadata": {},
     "output_type": "execute_result"
    }
   ],
   "source": [
    "best_model = models[model_name]\n",
    "best_model"
   ]
  },
  {
   "cell_type": "markdown",
   "metadata": {},
   "source": [
    "Pipeline using the best regression model from the previous search"
   ]
  },
  {
   "cell_type": "code",
   "execution_count": 41,
   "metadata": {},
   "outputs": [],
   "source": [
    "pl_best_model = Pipeline(steps=[('proc', proc), ('reg', best_model)])"
   ]
  },
  {
   "cell_type": "code",
   "execution_count": 42,
   "metadata": {},
   "outputs": [],
   "source": [
    "#pl_best_model.get_params().keys()"
   ]
  },
  {
   "cell_type": "markdown",
   "metadata": {},
   "source": [
    "Possible parameters to search through to find best parameters"
   ]
  },
  {
   "cell_type": "code",
   "execution_count": 43,
   "metadata": {},
   "outputs": [],
   "source": [
    "params = {\n",
    "    'reg__n_estimators': [2, 5, 10, 25, 100, 200],\n",
    "    'reg__max_features': [5, 20, None],\n",
    "    'reg__max_depth': [2, 5, 9, None]\n",
    "}"
   ]
  },
  {
   "cell_type": "markdown",
   "metadata": {},
   "source": [
    "Conduct a 5 fold grids search for the best parameters for the best model"
   ]
  },
  {
   "cell_type": "code",
   "execution_count": 44,
   "metadata": {},
   "outputs": [],
   "source": [
    "grids = GridSearchCV(pl_best_model, param_grid=params, cv=5)"
   ]
  },
  {
   "cell_type": "code",
   "execution_count": 45,
   "metadata": {},
   "outputs": [
    {
     "data": {
      "text/plain": [
       "GridSearchCV(cv=5, error_score=nan,\n",
       "             estimator=Pipeline(memory=None,\n",
       "                                steps=[('proc',\n",
       "                                        ColumnTransformer(n_jobs=None,\n",
       "                                                          remainder='drop',\n",
       "                                                          sparse_threshold=0.3,\n",
       "                                                          transformer_weights=None,\n",
       "                                                          transformers=[('cat',\n",
       "                                                                         Pipeline(memory=None,\n",
       "                                                                                  steps=[('cat',\n",
       "                                                                                          SelectColumns(cols=['CandidateBallotInformation',\n",
       "                                                                                                              'Gender',\n",
       "                                                                                                              'AgeBracket',\n",
       "                                                                                                              'CountryCode',\n",
       "                                                                                                              'Regions '\n",
       "                                                                                                              '(Included)',\n",
       "                                                                                                              'Regions '\n",
       "                                                                                                              '(Exc...\n",
       "                                                                  presort='deprecated',\n",
       "                                                                  random_state=None,\n",
       "                                                                  subsample=1.0,\n",
       "                                                                  tol=0.0001,\n",
       "                                                                  validation_fraction=0.1,\n",
       "                                                                  verbose=0,\n",
       "                                                                  warm_start=False))],\n",
       "                                verbose=False),\n",
       "             iid='deprecated', n_jobs=None,\n",
       "             param_grid={'reg__max_depth': [2, 5, 9, None],\n",
       "                         'reg__max_features': [5, 20, None],\n",
       "                         'reg__n_estimators': [2, 5, 10, 25, 100, 200]},\n",
       "             pre_dispatch='2*n_jobs', refit=True, return_train_score=False,\n",
       "             scoring=None, verbose=0)"
      ]
     },
     "execution_count": 45,
     "metadata": {},
     "output_type": "execute_result"
    }
   ],
   "source": [
    "grids.fit(X_train, y_train)"
   ]
  },
  {
   "cell_type": "code",
   "execution_count": 46,
   "metadata": {},
   "outputs": [
    {
     "data": {
      "text/plain": [
       "{'reg__max_depth': 5, 'reg__max_features': 5, 'reg__n_estimators': 200}"
      ]
     },
     "execution_count": 46,
     "metadata": {},
     "output_type": "execute_result"
    }
   ],
   "source": [
    "grids.best_params_"
   ]
  },
  {
   "cell_type": "markdown",
   "metadata": {},
   "source": [
    "Finding the best and final model using the grid search best estimator"
   ]
  },
  {
   "cell_type": "code",
   "execution_count": 87,
   "metadata": {},
   "outputs": [],
   "source": [
    "pl_best = grids.best_estimator_"
   ]
  },
  {
   "cell_type": "code",
   "execution_count": 88,
   "metadata": {},
   "outputs": [
    {
     "data": {
      "text/plain": [
       "Pipeline(memory=None,\n",
       "         steps=[('proc',\n",
       "                 ColumnTransformer(n_jobs=None, remainder='drop',\n",
       "                                   sparse_threshold=0.3,\n",
       "                                   transformer_weights=None,\n",
       "                                   transformers=[('cat',\n",
       "                                                  Pipeline(memory=None,\n",
       "                                                           steps=[('cat',\n",
       "                                                                   SelectColumns(cols=['CandidateBallotInformation',\n",
       "                                                                                       'Gender',\n",
       "                                                                                       'AgeBracket',\n",
       "                                                                                       'CountryCode',\n",
       "                                                                                       'Regions '\n",
       "                                                                                       '(Included)',\n",
       "                                                                                       'Regions '\n",
       "                                                                                       '(Excluded)',\n",
       "                                                                                       'Electoral '\n",
       "                                                                                       'Districts '\n",
       "                                                                                       '(Included)',\n",
       "                                                                                       '...\n",
       "                                           learning_rate=0.1, loss='ls',\n",
       "                                           max_depth=5, max_features=5,\n",
       "                                           max_leaf_nodes=None,\n",
       "                                           min_impurity_decrease=0.0,\n",
       "                                           min_impurity_split=None,\n",
       "                                           min_samples_leaf=1,\n",
       "                                           min_samples_split=2,\n",
       "                                           min_weight_fraction_leaf=0.0,\n",
       "                                           n_estimators=200,\n",
       "                                           n_iter_no_change=None,\n",
       "                                           presort='deprecated',\n",
       "                                           random_state=None, subsample=1.0,\n",
       "                                           tol=0.0001, validation_fraction=0.1,\n",
       "                                           verbose=0, warm_start=False))],\n",
       "         verbose=False)"
      ]
     },
     "execution_count": 88,
     "metadata": {},
     "output_type": "execute_result"
    }
   ],
   "source": [
    "pl_best.fit(X_train, y_train)"
   ]
  },
  {
   "cell_type": "markdown",
   "metadata": {},
   "source": [
    "Predictions based on the best and final model"
   ]
  },
  {
   "cell_type": "code",
   "execution_count": 89,
   "metadata": {},
   "outputs": [],
   "source": [
    "preds = pl_best.predict(X_test)"
   ]
  },
  {
   "cell_type": "markdown",
   "metadata": {},
   "source": [
    "R2_score using the best model and best parameters"
   ]
  },
  {
   "cell_type": "code",
   "execution_count": 90,
   "metadata": {},
   "outputs": [
    {
     "data": {
      "text/plain": [
       "0.8824603828789102"
      ]
     },
     "execution_count": 90,
     "metadata": {},
     "output_type": "execute_result"
    }
   ],
   "source": [
    "pl_best.score(X_test, y_test)"
   ]
  },
  {
   "cell_type": "markdown",
   "metadata": {},
   "source": [
    "Histogram of the R2_score produced by the best model with the best parameters"
   ]
  },
  {
   "cell_type": "code",
   "execution_count": 91,
   "metadata": {},
   "outputs": [],
   "source": [
    "out = []\n",
    "for _ in range(50):\n",
    "    X_tr, X_ts, y_tr, y_ts = train_test_split(ads_copy.drop(['Spend'], axis=1), ads_copy.Spend, random_state=0)    \n",
    "    pl_best.fit(X_tr, y_tr)\n",
    "    score = pl_best.score(X_ts, y_ts)\n",
    "    out.append(score)"
   ]
  },
  {
   "cell_type": "code",
   "execution_count": 92,
   "metadata": {},
   "outputs": [
    {
     "data": {
      "image/png": "[encoded data removed]",
      "text/plain": [
       "<Figure size 432x288 with 1 Axes>"
      ]
     },
     "metadata": {
      "image/png": {
       "height": 263,
       "width": 382
      },
      "needs_background": "light"
     },
     "output_type": "display_data"
    }
   ],
   "source": [
    "pd.Series(out).plot(kind='hist', title='scores in 50 model builds');"
   ]
  },
  {
   "cell_type": "markdown",
   "metadata": {},
   "source": [
    "### Fairness Evaluation"
   ]
  },
  {
   "cell_type": "markdown",
   "metadata": {},
   "source": [
    "Null Hypothesis: My model is fair, the R2_scores for my two subsets are roughly the same\n",
    "\n",
    "Alternate Hypothesis: My model is unfair, the R2_scores for my subsets are different as there are higher R2_scores for ads with less than 100k views"
   ]
  },
  {
   "cell_type": "markdown",
   "metadata": {},
   "source": [
    "First to split the ads into subsets with more or less than 100,000 views, I used binarizer with the threshold at 100k and then selected indices based on the binarizer values to split the dataset into two subsets with one with only ads with less than 100k views and one with onyl ads with more than 100k views"
   ]
  },
  {
   "cell_type": "code",
   "execution_count": 75,
   "metadata": {},
   "outputs": [],
   "source": [
    "binarize_views = Binarizer(threshold=100000)\n",
    "new_impressions = binarize_views.fit_transform(ads_copy[['Impressions']])\n",
    "df = pd.DataFrame(new_impressions, columns=['Views'])\n",
    "less_than_hundred_indices = df[df['Views'] == 0].index\n",
    "hundred_plus_indices = df[df['Views'] == 1].index\n",
    "less_than_hundred = ads_copy.loc[less_than_hundred_indices]\n",
    "more_than_hundred = ads_copy.loc[hundred_plus_indices]"
   ]
  },
  {
   "cell_type": "markdown",
   "metadata": {},
   "source": [
    "I then conduct a permutation test by shuffling the views (Impressions) and finding the R2_scores of both subsets and then calculate the difference (less than 100k - more than 100k) and add that value to the list of differences. I also calculate the R2_score of the observed subsets and compare and see how many differences are as extreme as the observed difference (less-more) "
   ]
  },
  {
   "cell_type": "code",
   "execution_count": 93,
   "metadata": {},
   "outputs": [],
   "source": [
    "n_repetitions = 50\n",
    "diffs = []\n",
    "rmses = []\n",
    "for _ in range(n_repetitions):\n",
    "    shuffled_less_views = less_than_hundred['Impressions'].sample(replace=False, frac=1).reset_index(drop=True)\n",
    "    shuffled_less = less_than_hundred.assign(Impressions=shuffled_less_views)\n",
    "    shuffled_more_views = more_than_hundred['Impressions'].sample(replace=False, frac=1).reset_index(drop=True)\n",
    "    shuffled_more = less_than_hundred.assign(Impressions=shuffled_more_views)\n",
    "    X_less_train, X_less_test, y_less_train, y_less_test = train_test_split(shuffled_less.drop('Spend', axis=1), shuffled_less.Spend, random_state=0)\n",
    "    X_more_train, X_more_test, y_more_train, y_more_test = train_test_split(shuffled_more.drop('Spend', axis=1), shuffled_more.Spend, random_state=0)\n",
    "    pl_best.fit(X_less_train, y_less_train)\n",
    "    preds_less = pl_best.predict(X_less_test)\n",
    "    pl_best.fit(X_more_train, y_more_train)\n",
    "    preds_more = pl_best.predict(X_more_test)\n",
    "    less_r_2 = r2_score(y_less_test, preds_less)\n",
    "    more_r_2 = r2_score(y_more_test, preds_more)\n",
    "    diff_score = less_r_2 - more_r_2\n",
    "    diffs.append(diff_score)\n",
    "X_obs_less_train, X_obs_less_test, y_obs_less_train, y_obs_less_test = train_test_split(less_than_hundred.drop('Spend', axis=1), less_than_hundred.Spend, random_state=0)\n",
    "X_obs_more_train, X_obs_more_test, y_obs_more_train, y_obs_more_test = train_test_split(more_than_hundred.drop('Spend', axis=1), more_than_hundred.Spend, random_state=0)\n",
    "pl_best.fit(X_obs_less_train, y_obs_less_train)\n",
    "preds_obs_less = pl_best.predict(X_obs_less_test)\n",
    "pl_best.fit(X_obs_more_train, y_obs_more_train)\n",
    "preds_obs_more = pl_best.predict(X_obs_more_test)\n",
    "less_r_2_obs = r2_score(y_obs_less_test, preds_obs_less)\n",
    "more_r_2_obs = r2_score(y_obs_more_test, preds_obs_more)"
   ]
  },
  {
   "cell_type": "markdown",
   "metadata": {},
   "source": [
    "I calculated the R2_score of the observed subsets and compare and see how many differences are as extreme as the observed difference (less-more)"
   ]
  },
  {
   "cell_type": "code",
   "execution_count": 97,
   "metadata": {},
   "outputs": [],
   "source": [
    "obs_diff = less_r_2_obs - more_r_2_obs"
   ]
  },
  {
   "cell_type": "markdown",
   "metadata": {},
   "source": [
    "Finding p_value to see how extreme the observed difference is"
   ]
  },
  {
   "cell_type": "code",
   "execution_count": 98,
   "metadata": {},
   "outputs": [
    {
     "data": {
      "text/plain": [
       "0.0"
      ]
     },
     "execution_count": 98,
     "metadata": {},
     "output_type": "execute_result"
    }
   ],
   "source": [
    "p_val = np.count_nonzero(diffs > obs_diff) / n_repetitions\n",
    "p_val"
   ]
  },
  {
   "cell_type": "markdown",
   "metadata": {},
   "source": [
    "Histogram of all the difference in R2_scores"
   ]
  },
  {
   "cell_type": "code",
   "execution_count": 99,
   "metadata": {},
   "outputs": [
    {
     "data": {
      "image/png": "[encoded data removed]",
      "text/plain": [
       "<Figure size 432x288 with 1 Axes>"
      ]
     },
     "metadata": {
      "image/png": {
       "height": 263,
       "width": 607
      },
      "needs_background": "light"
     },
     "output_type": "display_data"
    }
   ],
   "source": [
    "title = 'Differences in R_2 Scores for ads with less than 100k views and more than 100k views (less-more)'\n",
    "pd.Series(diffs).plot(kind='hist', density=True, title=title)\n",
    "plt.scatter(obs_diff, 0, color='red', s=40);"
   ]
  },
  {
   "cell_type": "markdown",
   "metadata": {},
   "source": [
    "Model seems to show increased R_2 scores for ads with less than 100k views which favors the alternate hypothesis that there are higher R2_scores for ads with less than 100k views. The model does not seem to be as accurate when it has to deal with large outliers"
   ]
  }
 ],
 "metadata": {
  "kernelspec": {
   "display_name": "Python 3",
   "language": "python",
   "name": "python3"
  },
  "language_info": {
   "codemirror_mode": {
    "name": "ipython",
    "version": 3
   },
   "file_extension": ".py",
   "mimetype": "text/x-python",
   "name": "python",
   "nbconvert_exporter": "python",
   "pygments_lexer": "ipython3",
   "version": "3.7.3"
  }
 },
 "nbformat": 4,
 "nbformat_minor": 2
}
