{
 "cells": [
  {
   "cell_type": "markdown",
   "metadata": {},
   "source": [
    "# Snapchat Political Ads\n",
    "* **See the main project notebook for instructions to be sure you satisfy the rubric!**\n",
    "* See Project 03 for information on the dataset.\n",
    "* A few example prediction questions to pursue are listed below. However, don't limit yourself to them!\n",
    "    * Predict the reach (number of views) of an ad.\n",
    "    * Predict how much was spent on an ad.\n",
    "    * Predict the target group of an ad. (For example, predict the target gender.)\n",
    "    * Predict the (type of) organization/advertiser behind an ad.\n",
    "\n",
    "Be careful to justify what information you would know at the \"time of prediction\" and train your model using only those features."
   ]
  },
  {
   "cell_type": "markdown",
   "metadata": {},
   "source": [
    "# Summary of Findings\n",
    "\n",
    "\n",
    "### Introduction\n",
    "For this project, I will be using the Snapchat Political Ads data from 2018 and 2019 to create a machine learning pipeline model. For the model, I will attempt to predict the money spent on an ad based on other features like number of views (Impressions) or other features like radius targeting. In order to predict the money spent on a given ad, I am planning to use a regression model as supposed to a classification model as I am not trying to classify the money spent and am focusing on just trying to predict the money spent. I chose to predict money spent because of the many factors about the ad and its influence on the money spent on the ad. For the evaluation metric of this model, I chose to use accuracy or r score of the model. With the accuracy metric, we can see the difference between the predicted money spent accourding of the model and the money actual spent. An accuracy or r score as close to 1 as possible is the main objective of this regression model.\n",
    "\n",
    "### Baseline Model\n",
    "For the baseline model, I chose to use most of the columns excluding columns like Ad ID and urls which do not have any relationship with the money spent on the ad. I decided to not use the StartDate, EndDate, AdID, CreativeUrl, OrganizationName, BillingAddress, PayingAdvertiserName, CreativeProperties. I decided to separate the rest of the columns of data into two groups which are either categorical or numerical data. For the categorical data, I decided to clean the data by replacing the missing values with what was recommended on the readme file which was similar to the procedure of the cleaning of data in the previous project. For the non missing data, I replaced this type of data with the value 'Some targeting' so that when you use one hot encoder, it does not results in hundreds of columns. For the categorical columns, I first used the SimpleImputer to fill all missing values with value 'NULL'. I then used OneHotEncoder ignoring unknown and with sparse set to False. For the numerical columns, I used SimpleImputer with strategy fill with the median to get rid of missing values. I applied both transformers within the pipeline model. I used train_test_split to split the data into data used to train the model and test data to check its accuracy with the pipeline score metric or r_2 score.  \n",
    "\n",
    "### Final Model\n",
    "For the final model, the first feature I engineered was creating a column that stated whether there were more than 3 kinds of targeting for each ad. The column contained the sum across the row of the label ‘Some targeting’ which I used to clean the data and also make it easier to do one-hot-encoding.  For values less than 3, it was replaced with the label ‘2 or less’ and ‘3 or more’ for values more than 3. After creating the column, I did one hot encoding and primary component analysis to remove unnecessary components. I also created another feature by taking the months of the start date and used one-hot encoding and primary component analysis to see the influence that the time of the year affects how much money spent on the ad. For the currency code, I applied values based on currency with the strongest value and replace the currency code with the currency value with respect to others and then like the other features I did one-hot-encoding and primary component analysis. I also standardized the numerical columns to somewhat mitigate the effect on outliers in the model and imputed values with the median as it is less subject to outliers. For the categorical features, I replaced the missing values with the label ‘NULL’ and I also did one-hot-encoding in the baseline but I also added primary component analysis to get rid of unnecessary information. Instead of using the linear regression model and other linear models from the sklearn linear_model library, I decided to use the ensemble library and decided to use RandomForestRegressor which significantly increased the r2_score of the model. To generate the training and testing data, I used train_test_split with the default 0.25 test size and random_state=0. In order to find the best model, I created a dictionary with all the models and \n",
    "and found the model with the highest cross validation score and used that as the best model in my grid search. In the grid search, I searched through different combination of parameters like n_estimators, max_features, and max_depth with 5 folds along the training data to find the best parameters for the best model. The r2_score went from around 0.83-0.87 with the RandomForestRegressor() with default parameters to around 0.87-0.9 with the best model and the best parameters. \n",
    "\n",
    "### Fairness Evaluation\n",
    "For the fairness evaluation, I chose to explore whether the model is fair when applied to ads whether they have more or less than 100,000 impressions (views). For the null hypothesis, the models are fair and there is no different in precision when it comes to ads with more or less than 100,000 views. For the alternate hypothesis, the model is unfair and there is a difference in precision when it comes to ads with more or less than 100,000 views. In order to test the null hypothesis, I am running a permutation test to test the fairness of the model with respect to number of views"
   ]
  },
  {
   "cell_type": "markdown",
   "metadata": {},
   "source": [
    "# Code"
   ]
  },
  {
   "cell_type": "code",
   "execution_count": 1,
   "metadata": {},
   "outputs": [],
   "source": [
    "import matplotlib.pyplot as plt\n",
    "import numpy as np\n",
    "import os\n",
    "import pandas as pd\n",
    "import seaborn as sns\n",
    "%matplotlib inline\n",
    "%config InlineBackend.figure_format = 'retina'  # Higher resolution figures"
   ]
  },
  {
   "cell_type": "code",
   "execution_count": 2,
   "metadata": {},
   "outputs": [],
   "source": [
    "fp_2018 = os.path.join('data', 'PoliticalAds_2018.csv')\n",
    "fp_2019 = os.path.join('data', 'PoliticalAds_2019.csv')\n",
    "ads_2018 = pd.read_csv(fp_2018)\n",
    "ads_2019 = pd.read_csv(fp_2019)\n",
    "ads = pd.concat([ads_2018, ads_2019], ignore_index=True)"
   ]
  },
  {
   "cell_type": "markdown",
   "metadata": {},
   "source": [
    "###### Convert Start and End Dates to Datetimes with time zone default UTC"
   ]
  },
  {
   "cell_type": "code",
   "execution_count": 3,
   "metadata": {},
   "outputs": [
    {
     "data": {
      "text/plain": [
       "Index(['ADID', 'CreativeUrl', 'Currency Code', 'Spend', 'Impressions',\n",
       "       'StartDate', 'EndDate', 'OrganizationName', 'BillingAddress',\n",
       "       'CandidateBallotInformation', 'PayingAdvertiserName', 'Gender',\n",
       "       'AgeBracket', 'CountryCode', 'Regions (Included)', 'Regions (Excluded)',\n",
       "       'Electoral Districts (Included)', 'Electoral Districts (Excluded)',\n",
       "       'Radius Targeting (Included)', 'Radius Targeting (Excluded)',\n",
       "       'Metros (Included)', 'Metros (Excluded)', 'Postal Codes (Included)',\n",
       "       'Postal Codes (Excluded)', 'Location Categories (Included)',\n",
       "       'Location Categories (Excluded)', 'Interests', 'OsType', 'Segments',\n",
       "       'Language', 'AdvancedDemographics', 'Targeting Connection Type',\n",
       "       'Targeting Carrier (ISP)', 'CreativeProperties'],\n",
       "      dtype='object')"
      ]
     },
     "execution_count": 3,
     "metadata": {},
     "output_type": "execute_result"
    }
   ],
   "source": [
    "ads['StartDate'] = pd.to_datetime(ads['StartDate'])\n",
    "ads['EndDate'] = pd.to_datetime(ads['EndDate'])\n",
    "ads.columns"
   ]
  },
  {
   "cell_type": "markdown",
   "metadata": {},
   "source": [
    "###### Cleaning the Data\n",
    "I used the readme file to fill missing values with appropriate values. For example if gender was empty, \n",
    "the read me stated that the targets all genders so I filled all the missing with all genders. I used the readme to fill in missing values because many of those missing values before cleaning actually have meaningful values so I filled those particular missing values so it would be what values are truly missing when assessing missingness."
   ]
  },
  {
   "cell_type": "code",
   "execution_count": 4,
   "metadata": {},
   "outputs": [],
   "source": [
    "ads['Gender'] = ads['Gender'].fillna('All genders')\n",
    "ads['AgeBracket'] = ads['AgeBracket'].fillna('All ages')\n",
    "ads['CountryCode'] = ads['CountryCode'].str.title()\n",
    "ads['CandidateBallotInformation'] = ads['CandidateBallotInformation'].fillna('No information provided')\n",
    "ads['Regions (Included)'] = ads['Regions (Included)'].fillna('None included')\n",
    "ads['Regions (Excluded)'] = ads['Regions (Excluded)'].fillna('All regions')\n",
    "ads['Electoral Districts (Included)'] = ads['Electoral Districts (Included)'].fillna('No electoral districts targeting')\n",
    "ads['Electoral Districts (Excluded)'] = ads['Electoral Districts (Excluded)'].fillna('All electoral districts')\n",
    "ads['Radius Targeting (Included)'] = ads['Radius Targeting (Included)'].fillna('No radius targeting')\n",
    "ads['Radius Targeting (Excluded)'] = ads['Radius Targeting (Excluded)'].fillna('Full radius')\n",
    "ads['Metros (Included)'] = ads['Metros (Included)'].fillna('No metros targeting')\n",
    "ads['Metros (Excluded)'] = ads['Metros (Excluded)'].fillna('All metros')\n",
    "ads['Postal Codes (Included)'] = ads['Postal Codes (Included)'].fillna('No postal codes targeting')\n",
    "ads['Postal Codes (Excluded)'] = ads['Postal Codes (Excluded)'].fillna('All postal codes')\n",
    "ads['Location Categories (Included)'] = ads['Location Categories (Included)'].fillna('No location categories targeting')\n",
    "ads.rename({'Location Categories (Exlcuded)': 'Location Categories (Excluded)'})\n",
    "ads['Location Categories (Excluded)'] = ads['Location Categories (Excluded)'].fillna('All location categories')\n",
    "ads['Interests'] = ads['Interests'].fillna('No interest targeting')\n",
    "ads['OsType'] = ads['OsType'].fillna('All operating systems')\n",
    "ads['Language'] = ads['Language'].fillna('No language targeting')\n",
    "ads['AdvancedDemographics'] = ads['AdvancedDemographics'].fillna('No 3rd party data')\n",
    "ads['Targeting Connection Type'] = ads['Targeting Connection Type'].fillna('No internet connection targeting')\n",
    "ads['Targeting Carrier (ISP)'] = ads['Targeting Carrier (ISP)'].fillna('All carrier types')"
   ]
  },
  {
   "cell_type": "code",
   "execution_count": 5,
   "metadata": {},
   "outputs": [
    {
     "data": {
      "text/html": [
       "<div>\n",
       "<style scoped>\n",
       "    .dataframe tbody tr th:only-of-type {\n",
       "        vertical-align: middle;\n",
       "    }\n",
       "\n",
       "    .dataframe tbody tr th {\n",
       "        vertical-align: top;\n",
       "    }\n",
       "\n",
       "    .dataframe thead th {\n",
       "        text-align: right;\n",
       "    }\n",
       "</style>\n",
       "<table border=\"1\" class=\"dataframe\">\n",
       "  <thead>\n",
       "    <tr style=\"text-align: right;\">\n",
       "      <th></th>\n",
       "      <th>ADID</th>\n",
       "      <th>CreativeUrl</th>\n",
       "      <th>Currency Code</th>\n",
       "      <th>Spend</th>\n",
       "      <th>Impressions</th>\n",
       "      <th>StartDate</th>\n",
       "      <th>EndDate</th>\n",
       "      <th>OrganizationName</th>\n",
       "      <th>BillingAddress</th>\n",
       "      <th>CandidateBallotInformation</th>\n",
       "      <th>...</th>\n",
       "      <th>Location Categories (Included)</th>\n",
       "      <th>Location Categories (Excluded)</th>\n",
       "      <th>Interests</th>\n",
       "      <th>OsType</th>\n",
       "      <th>Segments</th>\n",
       "      <th>Language</th>\n",
       "      <th>AdvancedDemographics</th>\n",
       "      <th>Targeting Connection Type</th>\n",
       "      <th>Targeting Carrier (ISP)</th>\n",
       "      <th>CreativeProperties</th>\n",
       "    </tr>\n",
       "  </thead>\n",
       "  <tbody>\n",
       "    <tr>\n",
       "      <th>0</th>\n",
       "      <td>5c81aa516a8b62d12172328a536cb66e16c3695431f753...</td>\n",
       "      <td>https://www.snap.com/political-ads/asset/27d66...</td>\n",
       "      <td>EUR</td>\n",
       "      <td>6000</td>\n",
       "      <td>2080852</td>\n",
       "      <td>2018-11-18 10:21:59+00:00</td>\n",
       "      <td>2018-12-02 10:21:59+00:00</td>\n",
       "      <td>Media Agent</td>\n",
       "      <td>Østre alle 2 ,Værløse ,3500,DK</td>\n",
       "      <td>No information provided</td>\n",
       "      <td>...</td>\n",
       "      <td>No location categories targeting</td>\n",
       "      <td>All location categories</td>\n",
       "      <td>No interest targeting</td>\n",
       "      <td>All operating systems</td>\n",
       "      <td>Provided by Advertiser</td>\n",
       "      <td>No language targeting</td>\n",
       "      <td>No 3rd party data</td>\n",
       "      <td>No internet connection targeting</td>\n",
       "      <td>All carrier types</td>\n",
       "      <td>web_view_url:https://danskfolkeparti.dk</td>\n",
       "    </tr>\n",
       "    <tr>\n",
       "      <th>1</th>\n",
       "      <td>ba2b4508ba87ed3c749d5ad5bc296648e6f4d55aacd33b...</td>\n",
       "      <td>https://www.snap.com/political-ads/asset/4f611...</td>\n",
       "      <td>USD</td>\n",
       "      <td>306</td>\n",
       "      <td>164497</td>\n",
       "      <td>2018-09-28 20:33:08+00:00</td>\n",
       "      <td>NaT</td>\n",
       "      <td>Chong and Koster</td>\n",
       "      <td>1640 Rhode Island Ave. NW, Suite 600,Washingto...</td>\n",
       "      <td>No information provided</td>\n",
       "      <td>...</td>\n",
       "      <td>No location categories targeting</td>\n",
       "      <td>All location categories</td>\n",
       "      <td>No interest targeting</td>\n",
       "      <td>All operating systems</td>\n",
       "      <td>NaN</td>\n",
       "      <td>en</td>\n",
       "      <td>No 3rd party data</td>\n",
       "      <td>No internet connection targeting</td>\n",
       "      <td>All carrier types</td>\n",
       "      <td>web_view_url:https://act.everytown.org/sign/di...</td>\n",
       "    </tr>\n",
       "    <tr>\n",
       "      <th>2</th>\n",
       "      <td>2438786c60ae41cf56614885b415a72857bbfb5c06f760...</td>\n",
       "      <td>https://www.snap.com/political-ads/asset/2c264...</td>\n",
       "      <td>GBP</td>\n",
       "      <td>445</td>\n",
       "      <td>232906</td>\n",
       "      <td>2018-11-27 21:44:19+00:00</td>\n",
       "      <td>2019-01-13 21:43:53+00:00</td>\n",
       "      <td>Amnesty International UK</td>\n",
       "      <td>17-25 New Inn Yard,London,EC2A 3EA,GB</td>\n",
       "      <td>No information provided</td>\n",
       "      <td>...</td>\n",
       "      <td>No location categories targeting</td>\n",
       "      <td>All location categories</td>\n",
       "      <td>No interest targeting</td>\n",
       "      <td>All operating systems</td>\n",
       "      <td>Provided by Advertiser</td>\n",
       "      <td>No language targeting</td>\n",
       "      <td>No 3rd party data</td>\n",
       "      <td>No internet connection targeting</td>\n",
       "      <td>All carrier types</td>\n",
       "      <td>web_view_url:https://www.amnesty.org.uk/write-...</td>\n",
       "    </tr>\n",
       "    <tr>\n",
       "      <th>3</th>\n",
       "      <td>c80ca50681d552551ceaf625981c0202589ca710d51925...</td>\n",
       "      <td>https://www.snap.com/political-ads/asset/a36b7...</td>\n",
       "      <td>USD</td>\n",
       "      <td>60</td>\n",
       "      <td>12883</td>\n",
       "      <td>2018-09-28 23:10:14+00:00</td>\n",
       "      <td>2018-10-10 02:00:00+00:00</td>\n",
       "      <td>Chong and Koster</td>\n",
       "      <td>1640 Rhode Island Ave. NW, Suite 600,Washingto...</td>\n",
       "      <td>No information provided</td>\n",
       "      <td>...</td>\n",
       "      <td>No location categories targeting</td>\n",
       "      <td>All location categories</td>\n",
       "      <td>No interest targeting</td>\n",
       "      <td>All operating systems</td>\n",
       "      <td>Provided by Advertiser</td>\n",
       "      <td>No language targeting</td>\n",
       "      <td>Marital Status (Single)</td>\n",
       "      <td>No internet connection targeting</td>\n",
       "      <td>All carrier types</td>\n",
       "      <td>web_view_url:https://www.voterparticipation.or...</td>\n",
       "    </tr>\n",
       "    <tr>\n",
       "      <th>4</th>\n",
       "      <td>6648427922b496ea49597c4b74b650805e29544600e6ca...</td>\n",
       "      <td>https://www.snap.com/political-ads/asset/9dfa5...</td>\n",
       "      <td>USD</td>\n",
       "      <td>3403</td>\n",
       "      <td>964607</td>\n",
       "      <td>2018-10-02 17:28:33+00:00</td>\n",
       "      <td>2018-10-09 03:59:44+00:00</td>\n",
       "      <td>ACRONYM</td>\n",
       "      <td>US</td>\n",
       "      <td>No information provided</td>\n",
       "      <td>...</td>\n",
       "      <td>No location categories targeting</td>\n",
       "      <td>All location categories</td>\n",
       "      <td>Arts &amp; Culture Mavens,Bookworms &amp; Avid Readers...</td>\n",
       "      <td>All operating systems</td>\n",
       "      <td>Provided by Advertiser</td>\n",
       "      <td>No language targeting</td>\n",
       "      <td>No 3rd party data</td>\n",
       "      <td>No internet connection targeting</td>\n",
       "      <td>All carrier types</td>\n",
       "      <td>web_view_url:https://join.knockthe.vote/swag?s...</td>\n",
       "    </tr>\n",
       "  </tbody>\n",
       "</table>\n",
       "<p>5 rows × 34 columns</p>\n",
       "</div>"
      ],
      "text/plain": [
       "                                                ADID  \\\n",
       "0  5c81aa516a8b62d12172328a536cb66e16c3695431f753...   \n",
       "1  ba2b4508ba87ed3c749d5ad5bc296648e6f4d55aacd33b...   \n",
       "2  2438786c60ae41cf56614885b415a72857bbfb5c06f760...   \n",
       "3  c80ca50681d552551ceaf625981c0202589ca710d51925...   \n",
       "4  6648427922b496ea49597c4b74b650805e29544600e6ca...   \n",
       "\n",
       "                                         CreativeUrl Currency Code  Spend  \\\n",
       "0  https://www.snap.com/political-ads/asset/27d66...           EUR   6000   \n",
       "1  https://www.snap.com/political-ads/asset/4f611...           USD    306   \n",
       "2  https://www.snap.com/political-ads/asset/2c264...           GBP    445   \n",
       "3  https://www.snap.com/political-ads/asset/a36b7...           USD     60   \n",
       "4  https://www.snap.com/political-ads/asset/9dfa5...           USD   3403   \n",
       "\n",
       "   Impressions                 StartDate                   EndDate  \\\n",
       "0      2080852 2018-11-18 10:21:59+00:00 2018-12-02 10:21:59+00:00   \n",
       "1       164497 2018-09-28 20:33:08+00:00                       NaT   \n",
       "2       232906 2018-11-27 21:44:19+00:00 2019-01-13 21:43:53+00:00   \n",
       "3        12883 2018-09-28 23:10:14+00:00 2018-10-10 02:00:00+00:00   \n",
       "4       964607 2018-10-02 17:28:33+00:00 2018-10-09 03:59:44+00:00   \n",
       "\n",
       "           OrganizationName  \\\n",
       "0               Media Agent   \n",
       "1          Chong and Koster   \n",
       "2  Amnesty International UK   \n",
       "3          Chong and Koster   \n",
       "4                   ACRONYM   \n",
       "\n",
       "                                      BillingAddress  \\\n",
       "0                     Østre alle 2 ,Værløse ,3500,DK   \n",
       "1  1640 Rhode Island Ave. NW, Suite 600,Washingto...   \n",
       "2              17-25 New Inn Yard,London,EC2A 3EA,GB   \n",
       "3  1640 Rhode Island Ave. NW, Suite 600,Washingto...   \n",
       "4                                                 US   \n",
       "\n",
       "  CandidateBallotInformation  ...    Location Categories (Included)  \\\n",
       "0    No information provided  ...  No location categories targeting   \n",
       "1    No information provided  ...  No location categories targeting   \n",
       "2    No information provided  ...  No location categories targeting   \n",
       "3    No information provided  ...  No location categories targeting   \n",
       "4    No information provided  ...  No location categories targeting   \n",
       "\n",
       "  Location Categories (Excluded)  \\\n",
       "0        All location categories   \n",
       "1        All location categories   \n",
       "2        All location categories   \n",
       "3        All location categories   \n",
       "4        All location categories   \n",
       "\n",
       "                                           Interests                 OsType  \\\n",
       "0                              No interest targeting  All operating systems   \n",
       "1                              No interest targeting  All operating systems   \n",
       "2                              No interest targeting  All operating systems   \n",
       "3                              No interest targeting  All operating systems   \n",
       "4  Arts & Culture Mavens,Bookworms & Avid Readers...  All operating systems   \n",
       "\n",
       "                 Segments               Language     AdvancedDemographics  \\\n",
       "0  Provided by Advertiser  No language targeting        No 3rd party data   \n",
       "1                     NaN                     en        No 3rd party data   \n",
       "2  Provided by Advertiser  No language targeting        No 3rd party data   \n",
       "3  Provided by Advertiser  No language targeting  Marital Status (Single)   \n",
       "4  Provided by Advertiser  No language targeting        No 3rd party data   \n",
       "\n",
       "          Targeting Connection Type Targeting Carrier (ISP)  \\\n",
       "0  No internet connection targeting       All carrier types   \n",
       "1  No internet connection targeting       All carrier types   \n",
       "2  No internet connection targeting       All carrier types   \n",
       "3  No internet connection targeting       All carrier types   \n",
       "4  No internet connection targeting       All carrier types   \n",
       "\n",
       "                                  CreativeProperties  \n",
       "0            web_view_url:https://danskfolkeparti.dk  \n",
       "1  web_view_url:https://act.everytown.org/sign/di...  \n",
       "2  web_view_url:https://www.amnesty.org.uk/write-...  \n",
       "3  web_view_url:https://www.voterparticipation.or...  \n",
       "4  web_view_url:https://join.knockthe.vote/swag?s...  \n",
       "\n",
       "[5 rows x 34 columns]"
      ]
     },
     "execution_count": 5,
     "metadata": {},
     "output_type": "execute_result"
    }
   ],
   "source": [
    "ads.head()"
   ]
  },
  {
   "cell_type": "markdown",
   "metadata": {},
   "source": [
    "### Baseline Model"
   ]
  },
  {
   "cell_type": "code",
   "execution_count": 6,
   "metadata": {},
   "outputs": [],
   "source": [
    "from sklearn.linear_model import LinearRegression, LogisticRegression, Lasso, Ridge, LassoLars\n",
    "from sklearn.preprocessing import FunctionTransformer, LabelEncoder, OrdinalEncoder\n",
    "from sklearn.preprocessing import OneHotEncoder\n",
    "from sklearn.pipeline import Pipeline, FeatureUnion\n",
    "from sklearn.compose import ColumnTransformer\n",
    "from sklearn.model_selection import GridSearchCV, KFold, cross_val_score\n",
    "from sklearn.decomposition import PCA\n",
    "from sklearn.impute import SimpleImputer\n",
    "from sklearn.preprocessing import StandardScaler\n",
    "from sklearn.ensemble import RandomForestClassifier\n",
    "from sklearn.gaussian_process import GaussianProcessRegressor\n",
    "from sklearn.svm import SVR\n",
    "from sklearn.metrics import r2_score\n",
    "\n",
    "from sklearn.tree import DecisionTreeRegressor\n",
    "from sklearn.ensemble import RandomForestRegressor, AdaBoostRegressor, GradientBoostingRegressor, ExtraTreesRegressor\n",
    "from sklearn.model_selection import train_test_split\n",
    "from sklearn.neighbors import KNeighborsRegressor\n",
    "from sklearn.model_selection import train_test_split\n",
    "from sklearn.base import BaseEstimator, TransformerMixin\n",
    "from sklearn.preprocessing import Binarizer"
   ]
  },
  {
   "cell_type": "code",
   "execution_count": 7,
   "metadata": {
    "scrolled": true
   },
   "outputs": [],
   "source": [
    "ads_copy = ads.copy()\n",
    "dates = ads_copy['StartDate']\n",
    "curr = ads_copy['Currency Code']\n",
    "months = ads_copy['StartDate'].dt.month\n",
    "ads_copy = ads_copy.drop(['ADID', 'StartDate', 'EndDate', 'OrganizationName', 'CreativeUrl', 'BillingAddress', 'PayingAdvertiserName', 'CreativeProperties'], axis=1)"
   ]
  },
  {
   "cell_type": "code",
   "execution_count": 8,
   "metadata": {},
   "outputs": [
    {
     "data": {
      "text/plain": [
       "['Impressions']"
      ]
     },
     "execution_count": 8,
     "metadata": {},
     "output_type": "execute_result"
    }
   ],
   "source": [
    "types = ads_copy.drop(['Spend'], axis=1).dtypes\n",
    "catcols = types.loc[types == np.object].index.to_list()\n",
    "numcols = types.loc[types != np.object].index.to_list()\n",
    "numcols"
   ]
  },
  {
   "cell_type": "code",
   "execution_count": 9,
   "metadata": {
    "scrolled": true
   },
   "outputs": [
    {
     "data": {
      "text/html": [
       "<div>\n",
       "<style scoped>\n",
       "    .dataframe tbody tr th:only-of-type {\n",
       "        vertical-align: middle;\n",
       "    }\n",
       "\n",
       "    .dataframe tbody tr th {\n",
       "        vertical-align: top;\n",
       "    }\n",
       "\n",
       "    .dataframe thead th {\n",
       "        text-align: right;\n",
       "    }\n",
       "</style>\n",
       "<table border=\"1\" class=\"dataframe\">\n",
       "  <thead>\n",
       "    <tr style=\"text-align: right;\">\n",
       "      <th></th>\n",
       "      <th>Currency Code</th>\n",
       "      <th>Spend</th>\n",
       "      <th>Impressions</th>\n",
       "      <th>CandidateBallotInformation</th>\n",
       "      <th>Gender</th>\n",
       "      <th>AgeBracket</th>\n",
       "      <th>CountryCode</th>\n",
       "      <th>Regions (Included)</th>\n",
       "      <th>Regions (Excluded)</th>\n",
       "      <th>Electoral Districts (Included)</th>\n",
       "      <th>...</th>\n",
       "      <th>Postal Codes (Excluded)</th>\n",
       "      <th>Location Categories (Included)</th>\n",
       "      <th>Location Categories (Excluded)</th>\n",
       "      <th>Interests</th>\n",
       "      <th>OsType</th>\n",
       "      <th>Segments</th>\n",
       "      <th>Language</th>\n",
       "      <th>AdvancedDemographics</th>\n",
       "      <th>Targeting Connection Type</th>\n",
       "      <th>Targeting Carrier (ISP)</th>\n",
       "    </tr>\n",
       "  </thead>\n",
       "  <tbody>\n",
       "    <tr>\n",
       "      <th>0</th>\n",
       "      <td>EUR</td>\n",
       "      <td>6000</td>\n",
       "      <td>2080852</td>\n",
       "      <td>No information provided</td>\n",
       "      <td>All genders</td>\n",
       "      <td>All ages</td>\n",
       "      <td>Denmark</td>\n",
       "      <td>None included</td>\n",
       "      <td>All regions</td>\n",
       "      <td>No electoral districts targeting</td>\n",
       "      <td>...</td>\n",
       "      <td>All postal codes</td>\n",
       "      <td>No location categories targeting</td>\n",
       "      <td>All location categories</td>\n",
       "      <td>No interest targeting</td>\n",
       "      <td>All operating systems</td>\n",
       "      <td>Provided by Advertiser</td>\n",
       "      <td>No language targeting</td>\n",
       "      <td>No 3rd party data</td>\n",
       "      <td>No internet connection targeting</td>\n",
       "      <td>All carrier types</td>\n",
       "    </tr>\n",
       "    <tr>\n",
       "      <th>1</th>\n",
       "      <td>USD</td>\n",
       "      <td>306</td>\n",
       "      <td>164497</td>\n",
       "      <td>No information provided</td>\n",
       "      <td>All genders</td>\n",
       "      <td>All ages</td>\n",
       "      <td>United States</td>\n",
       "      <td>None included</td>\n",
       "      <td>All regions</td>\n",
       "      <td>No electoral districts targeting</td>\n",
       "      <td>...</td>\n",
       "      <td>All postal codes</td>\n",
       "      <td>No location categories targeting</td>\n",
       "      <td>All location categories</td>\n",
       "      <td>No interest targeting</td>\n",
       "      <td>All operating systems</td>\n",
       "      <td>NaN</td>\n",
       "      <td>Some targeting</td>\n",
       "      <td>No 3rd party data</td>\n",
       "      <td>No internet connection targeting</td>\n",
       "      <td>All carrier types</td>\n",
       "    </tr>\n",
       "    <tr>\n",
       "      <th>2</th>\n",
       "      <td>GBP</td>\n",
       "      <td>445</td>\n",
       "      <td>232906</td>\n",
       "      <td>No information provided</td>\n",
       "      <td>All genders</td>\n",
       "      <td>Some targeting</td>\n",
       "      <td>United Kingdom</td>\n",
       "      <td>None included</td>\n",
       "      <td>All regions</td>\n",
       "      <td>No electoral districts targeting</td>\n",
       "      <td>...</td>\n",
       "      <td>All postal codes</td>\n",
       "      <td>No location categories targeting</td>\n",
       "      <td>All location categories</td>\n",
       "      <td>No interest targeting</td>\n",
       "      <td>All operating systems</td>\n",
       "      <td>Provided by Advertiser</td>\n",
       "      <td>No language targeting</td>\n",
       "      <td>No 3rd party data</td>\n",
       "      <td>No internet connection targeting</td>\n",
       "      <td>All carrier types</td>\n",
       "    </tr>\n",
       "    <tr>\n",
       "      <th>3</th>\n",
       "      <td>USD</td>\n",
       "      <td>60</td>\n",
       "      <td>12883</td>\n",
       "      <td>No information provided</td>\n",
       "      <td>Some targeting</td>\n",
       "      <td>Some targeting</td>\n",
       "      <td>United States</td>\n",
       "      <td>Some targeting</td>\n",
       "      <td>All regions</td>\n",
       "      <td>No electoral districts targeting</td>\n",
       "      <td>...</td>\n",
       "      <td>All postal codes</td>\n",
       "      <td>No location categories targeting</td>\n",
       "      <td>All location categories</td>\n",
       "      <td>No interest targeting</td>\n",
       "      <td>All operating systems</td>\n",
       "      <td>Provided by Advertiser</td>\n",
       "      <td>No language targeting</td>\n",
       "      <td>Some targeting</td>\n",
       "      <td>No internet connection targeting</td>\n",
       "      <td>All carrier types</td>\n",
       "    </tr>\n",
       "    <tr>\n",
       "      <th>4</th>\n",
       "      <td>USD</td>\n",
       "      <td>3403</td>\n",
       "      <td>964607</td>\n",
       "      <td>No information provided</td>\n",
       "      <td>All genders</td>\n",
       "      <td>Some targeting</td>\n",
       "      <td>United States</td>\n",
       "      <td>Some targeting</td>\n",
       "      <td>All regions</td>\n",
       "      <td>No electoral districts targeting</td>\n",
       "      <td>...</td>\n",
       "      <td>All postal codes</td>\n",
       "      <td>No location categories targeting</td>\n",
       "      <td>All location categories</td>\n",
       "      <td>Some targeting</td>\n",
       "      <td>All operating systems</td>\n",
       "      <td>Provided by Advertiser</td>\n",
       "      <td>No language targeting</td>\n",
       "      <td>No 3rd party data</td>\n",
       "      <td>No internet connection targeting</td>\n",
       "      <td>All carrier types</td>\n",
       "    </tr>\n",
       "  </tbody>\n",
       "</table>\n",
       "<p>5 rows × 26 columns</p>\n",
       "</div>"
      ],
      "text/plain": [
       "  Currency Code  Spend  Impressions CandidateBallotInformation  \\\n",
       "0           EUR   6000      2080852    No information provided   \n",
       "1           USD    306       164497    No information provided   \n",
       "2           GBP    445       232906    No information provided   \n",
       "3           USD     60        12883    No information provided   \n",
       "4           USD   3403       964607    No information provided   \n",
       "\n",
       "           Gender      AgeBracket     CountryCode Regions (Included)  \\\n",
       "0     All genders        All ages         Denmark      None included   \n",
       "1     All genders        All ages   United States      None included   \n",
       "2     All genders  Some targeting  United Kingdom      None included   \n",
       "3  Some targeting  Some targeting   United States     Some targeting   \n",
       "4     All genders  Some targeting   United States     Some targeting   \n",
       "\n",
       "  Regions (Excluded)    Electoral Districts (Included)  ...  \\\n",
       "0        All regions  No electoral districts targeting  ...   \n",
       "1        All regions  No electoral districts targeting  ...   \n",
       "2        All regions  No electoral districts targeting  ...   \n",
       "3        All regions  No electoral districts targeting  ...   \n",
       "4        All regions  No electoral districts targeting  ...   \n",
       "\n",
       "  Postal Codes (Excluded)    Location Categories (Included)  \\\n",
       "0        All postal codes  No location categories targeting   \n",
       "1        All postal codes  No location categories targeting   \n",
       "2        All postal codes  No location categories targeting   \n",
       "3        All postal codes  No location categories targeting   \n",
       "4        All postal codes  No location categories targeting   \n",
       "\n",
       "  Location Categories (Excluded)              Interests  \\\n",
       "0        All location categories  No interest targeting   \n",
       "1        All location categories  No interest targeting   \n",
       "2        All location categories  No interest targeting   \n",
       "3        All location categories  No interest targeting   \n",
       "4        All location categories         Some targeting   \n",
       "\n",
       "                  OsType                Segments               Language  \\\n",
       "0  All operating systems  Provided by Advertiser  No language targeting   \n",
       "1  All operating systems                     NaN         Some targeting   \n",
       "2  All operating systems  Provided by Advertiser  No language targeting   \n",
       "3  All operating systems  Provided by Advertiser  No language targeting   \n",
       "4  All operating systems  Provided by Advertiser  No language targeting   \n",
       "\n",
       "  AdvancedDemographics         Targeting Connection Type  \\\n",
       "0    No 3rd party data  No internet connection targeting   \n",
       "1    No 3rd party data  No internet connection targeting   \n",
       "2    No 3rd party data  No internet connection targeting   \n",
       "3       Some targeting  No internet connection targeting   \n",
       "4    No 3rd party data  No internet connection targeting   \n",
       "\n",
       "  Targeting Carrier (ISP)  \n",
       "0       All carrier types  \n",
       "1       All carrier types  \n",
       "2       All carrier types  \n",
       "3       All carrier types  \n",
       "4       All carrier types  \n",
       "\n",
       "[5 rows x 26 columns]"
      ]
     },
     "execution_count": 9,
     "metadata": {},
     "output_type": "execute_result"
    }
   ],
   "source": [
    "with_age = ads_copy.loc[ads_copy['AgeBracket'] != 'All ages'].index\n",
    "ads_copy.loc[with_age, 'AgeBracket'] = 'Some targeting'\n",
    "with_gender = ads_copy.loc[ads_copy['Gender'] != 'All genders'].index\n",
    "ads_copy.loc[with_gender, 'Gender'] = 'Some targeting'\n",
    "with_info = ads_copy.loc[ads_copy['CandidateBallotInformation'] != 'No information provided'].index\n",
    "ads_copy.loc[with_info, 'CandidateBallotInformation'] = 'Some targeting'\n",
    "with_region_incl = ads_copy.loc[ads_copy['Regions (Included)'] != 'None included'].index\n",
    "ads_copy.loc[with_region_incl, 'Regions (Included)'] = 'Some targeting'\n",
    "with_region_excl = ads_copy.loc[ads_copy['Regions (Excluded)'] != 'All regions'].index\n",
    "ads_copy.loc[with_region_excl, 'Regions (Excluded)'] = 'Some targeting'\n",
    "with_elec_incl = ads_copy.loc[ads_copy['Electoral Districts (Included)'] != 'No electoral districts targeting'].index\n",
    "ads_copy.loc[with_elec_incl, 'Electoral Districts (Included)'] = 'Some targeting'\n",
    "with_elec_excl = ads_copy.loc[ads_copy['Electoral Districts (Excluded)'] != 'All electoral districts'].index\n",
    "ads_copy.loc[with_elec_excl, 'Electoral Districts (Excluded)'] = 'Some targeting'\n",
    "with_rad_incl = ads_copy.loc[ads_copy['Radius Targeting (Included)'] != 'No radius targeting'].index\n",
    "ads_copy.loc[with_rad_incl, 'Radius Targeting (Included)'] = 'Some targeting'\n",
    "with_rad_excl = ads_copy.loc[ads_copy['Radius Targeting (Excluded)'] != 'Full radius'].index\n",
    "ads_copy.loc[with_rad_excl, 'Radius Targeting (Excluded)'] = 'Some targeting'\n",
    "with_met_incl = ads_copy.loc[ads_copy['Metros (Included)'] != 'No metros targeting'].index\n",
    "ads_copy.loc[with_met_incl, 'Metros (Included)'] = 'Some targeting'\n",
    "with_met_excl = ads_copy.loc[ads_copy['Metros (Excluded)'] != 'All metros'].index\n",
    "ads_copy.loc[with_met_excl, 'Metros (Excluded)'] = 'Some targeting'\n",
    "with_post_incl = ads_copy.loc[ads_copy['Postal Codes (Included)'] != 'No postal codes targeting'].index\n",
    "ads_copy.loc[with_post_incl, 'Postal Codes (Included)'] = 'Some targeting'\n",
    "with_post_excl = ads_copy.loc[ads_copy['Postal Codes (Excluded)'] != 'All postal codes'].index\n",
    "ads_copy.loc[with_post_excl, 'Postal Codes (Excluded)'] = 'Some targeting'\n",
    "with_loc_incl = ads_copy.loc[ads_copy['Location Categories (Included)'] != 'No location categories targeting'].index\n",
    "ads_copy.loc[with_loc_incl, 'Location Categories (Included)'] = 'Some targeting'\n",
    "with_loc_excl = ads_copy.loc[ads_copy['Location Categories (Excluded)'] != 'All location categories'].index\n",
    "ads_copy.loc[with_loc_excl, 'Location Categories (Excluded)'] = 'Some targeting'\n",
    "with_interest = ads_copy.loc[ads_copy['Interests'] != 'No interest targeting'].index\n",
    "ads_copy.loc[with_interest, 'Interests'] = 'Some targeting'\n",
    "with_os = ads_copy.loc[ads_copy['OsType'] != 'All operating systems'].index\n",
    "ads_copy.loc[with_os, 'OsType'] = 'Some targeting'\n",
    "with_lang = ads_copy.loc[ads_copy['Language'] != 'No language targeting'].index\n",
    "ads_copy.loc[with_lang, 'Language'] = 'Some targeting'\n",
    "with_dem = ads_copy.loc[ads_copy['AdvancedDemographics'] != 'No 3rd party data'].index\n",
    "ads_copy.loc[with_dem, 'AdvancedDemographics'] = 'Some targeting'\n",
    "with_target = ads_copy.loc[ads_copy['Targeting Connection Type'] != 'No internet connection targeting'].index\n",
    "ads_copy.loc[with_target, 'Targeting Connection Type'] = 'Some targeting'\n",
    "with_carr = ads_copy.loc[ads_copy['Targeting Carrier (ISP)'] != 'All carrier types'].index\n",
    "ads_copy.loc[with_carr, 'Targeting Carrier (ISP)'] = 'Some targeting'\n",
    "ads_copy.head()"
   ]
  },
  {
   "cell_type": "code",
   "execution_count": 10,
   "metadata": {},
   "outputs": [],
   "source": [
    "cat_transformer = Pipeline(steps=[('imp', SimpleImputer(strategy='constant', fill_value='NULL')),\n",
    "                                 ('ohe', OneHotEncoder(handle_unknown='ignore', sparse=False))])\n",
    "num_transformer = Pipeline(steps=[('imp', SimpleImputer(strategy='median'))])"
   ]
  },
  {
   "cell_type": "code",
   "execution_count": 11,
   "metadata": {},
   "outputs": [],
   "source": [
    "preproc = ColumnTransformer(transformers=[('cat', cat_transformer, catcols),\n",
    "                                         ('num', num_transformer, numcols)])"
   ]
  },
  {
   "cell_type": "code",
   "execution_count": 12,
   "metadata": {},
   "outputs": [],
   "source": [
    "pl_base = Pipeline(steps=[('preproc', preproc), ('reg', LinearRegression())])"
   ]
  },
  {
   "cell_type": "code",
   "execution_count": 13,
   "metadata": {},
   "outputs": [],
   "source": [
    "X_train, X_test, y_train, y_test = train_test_split(ads_copy.drop(['Spend'], axis=1), ads_copy.Spend, random_state=0)"
   ]
  },
  {
   "cell_type": "code",
   "execution_count": 14,
   "metadata": {
    "scrolled": false
   },
   "outputs": [
    {
     "data": {
      "text/plain": [
       "Pipeline(memory=None,\n",
       "         steps=[('preproc',\n",
       "                 ColumnTransformer(n_jobs=None, remainder='drop',\n",
       "                                   sparse_threshold=0.3,\n",
       "                                   transformer_weights=None,\n",
       "                                   transformers=[('cat',\n",
       "                                                  Pipeline(memory=None,\n",
       "                                                           steps=[('imp',\n",
       "                                                                   SimpleImputer(add_indicator=False,\n",
       "                                                                                 copy=True,\n",
       "                                                                                 fill_value='NULL',\n",
       "                                                                                 missing_values=nan,\n",
       "                                                                                 strategy='constant',\n",
       "                                                                                 verbose=0)),\n",
       "                                                                  ('ohe',\n",
       "                                                                   OneHotEncoder(categories='auto',\n",
       "                                                                                 drop=None,...\n",
       "                                                   'Targeting Connection Type',\n",
       "                                                   'Targeting Carrier (ISP)']),\n",
       "                                                 ('num',\n",
       "                                                  Pipeline(memory=None,\n",
       "                                                           steps=[('imp',\n",
       "                                                                   SimpleImputer(add_indicator=False,\n",
       "                                                                                 copy=True,\n",
       "                                                                                 fill_value=None,\n",
       "                                                                                 missing_values=nan,\n",
       "                                                                                 strategy='median',\n",
       "                                                                                 verbose=0))],\n",
       "                                                           verbose=False),\n",
       "                                                  ['Impressions'])],\n",
       "                                   verbose=False)),\n",
       "                ('reg',\n",
       "                 LinearRegression(copy_X=True, fit_intercept=True, n_jobs=None,\n",
       "                                  normalize=False))],\n",
       "         verbose=False)"
      ]
     },
     "execution_count": 14,
     "metadata": {},
     "output_type": "execute_result"
    }
   ],
   "source": [
    "pl_base.fit(X_train, y_train)"
   ]
  },
  {
   "cell_type": "code",
   "execution_count": 15,
   "metadata": {},
   "outputs": [],
   "source": [
    "preds = pl_base.predict(ads_copy.drop('Spend', axis=1))"
   ]
  },
  {
   "cell_type": "code",
   "execution_count": 16,
   "metadata": {},
   "outputs": [
    {
     "data": {
      "text/plain": [
       "0.5907277536558709"
      ]
     },
     "execution_count": 16,
     "metadata": {},
     "output_type": "execute_result"
    }
   ],
   "source": [
    "r_score = pl_base.score(X_test, y_test)\n",
    "r_score"
   ]
  },
  {
   "cell_type": "code",
   "execution_count": 17,
   "metadata": {},
   "outputs": [],
   "source": [
    "out = []\n",
    "for _ in range(10):\n",
    "    X_tr, X_ts, y_tr, y_ts = train_test_split(ads_copy.drop('Spend', axis=1), ads_copy.Spend)\n",
    "    pl_base.fit(X_tr, y_tr)\n",
    "    score = pl_base.score(X_ts, y_ts)\n",
    "    out.append(score)"
   ]
  },
  {
   "cell_type": "code",
   "execution_count": 18,
   "metadata": {},
   "outputs": [
    {
     "data": {
      "image/png": "[encoded data removed]",
      "text/plain": [
       "<Figure size 432x288 with 1 Axes>"
      ]
     },
     "metadata": {
      "image/png": {
       "height": 263,
       "width": 385
      },
      "needs_background": "light"
     },
     "output_type": "display_data"
    }
   ],
   "source": [
    "pd.Series(out).plot(kind='hist', title='scores in 50 model builds');"
   ]
  },
  {
   "cell_type": "markdown",
   "metadata": {},
   "source": [
    "### Final Model"
   ]
  },
  {
   "cell_type": "code",
   "execution_count": 19,
   "metadata": {},
   "outputs": [],
   "source": [
    "class SelectColumns(BaseEstimator, TransformerMixin):\n",
    "    def __init__(self, cols):\n",
    "        self.cols = cols\n",
    "    def fit(self, X, y=None):\n",
    "        return self\n",
    "    def transform(self, X):\n",
    "        return X[self.cols]"
   ]
  },
  {
   "cell_type": "code",
   "execution_count": 20,
   "metadata": {
    "scrolled": true
   },
   "outputs": [],
   "source": [
    "cat = ads_copy[catcols].copy()\n",
    "cat = cat.drop(['Currency Code'], axis=1)\n",
    "targeting = (cat == 'Some targeting').astype(int).sum(axis=1)\n",
    "more_than_three = targeting >= 3\n",
    "more_than_three_repl = {\n",
    "    False: '2 or less',\n",
    "    True: '3 or more'\n",
    "}\n",
    "three_types_plus = more_than_three.replace(more_than_three_repl)\n",
    "three_types_plus\n",
    "ads_copy['3+ Types of Targeting'] = three_types_plus"
   ]
  },
  {
   "cell_type": "code",
   "execution_count": 21,
   "metadata": {},
   "outputs": [],
   "source": [
    "ads_copy['Month'] = months"
   ]
  },
  {
   "cell_type": "code",
   "execution_count": 22,
   "metadata": {},
   "outputs": [],
   "source": [
    "targeting_transformer = Pipeline(steps=[('ohe', OneHotEncoder(handle_unknown='ignore', sparse=False)),\n",
    "                                       ('pca', PCA(svd_solver='full', n_components=0.99))])"
   ]
  },
  {
   "cell_type": "code",
   "execution_count": 23,
   "metadata": {},
   "outputs": [],
   "source": [
    "month_transformer = Pipeline(steps=[('mon', SelectColumns(['Month'])),\n",
    "                                    ('imp', SimpleImputer(strategy='most_frequent')),\n",
    "                                     ('ohe', OneHotEncoder(handle_unknown='ignore', sparse=False)),\n",
    "                                     ('pca', PCA(svd_solver='full', n_components=0.99))])"
   ]
  },
  {
   "cell_type": "code",
   "execution_count": 24,
   "metadata": {},
   "outputs": [],
   "source": [
    "currency_dict = {\n",
    "    'EUR': 3,\n",
    "    'USD': 2,\n",
    "    'CAD': 1,\n",
    "    'AUD': 0,\n",
    "    'GBP': 4\n",
    "}\n",
    "curr_repl = curr.replace(currency_dict)\n",
    "ads_copy['Currency Code'] = curr_repl"
   ]
  },
  {
   "cell_type": "code",
   "execution_count": 25,
   "metadata": {},
   "outputs": [],
   "source": [
    "curr_transformer = Pipeline(steps=[('curr', SelectColumns(['Currency Code'])),\n",
    "                                   ('imp', SimpleImputer(strategy='most_frequent')),\n",
    "                                  ('ohe', OneHotEncoder(handle_unknown='ignore', sparse=False)),\n",
    "                                  ('pca', PCA(svd_solver='full', n_components=0.99))])"
   ]
  },
  {
   "cell_type": "code",
   "execution_count": 26,
   "metadata": {},
   "outputs": [],
   "source": [
    "cat_transformer = Pipeline(steps=[('cat', SelectColumns(catcols)),\n",
    "                                  ('imp', SimpleImputer(strategy='constant', fill_value='NULL')),\n",
    "                                 ('ohe', OneHotEncoder(handle_unknown='ignore', sparse=False)), \n",
    "                                 ('PCA', PCA(svd_solver='full', n_components=0.99))])"
   ]
  },
  {
   "cell_type": "code",
   "execution_count": 27,
   "metadata": {},
   "outputs": [],
   "source": [
    "scale_transformer = Pipeline(steps=[('by', SelectColumns(numcols)),\n",
    "                                    ('imp', SimpleImputer(strategy='median')),\n",
    "                                    ('scale', StandardScaler())])"
   ]
  },
  {
   "cell_type": "code",
   "execution_count": 28,
   "metadata": {},
   "outputs": [],
   "source": [
    "proc = ColumnTransformer(transformers=[('cat', cat_transformer, catcols),\n",
    "                                       ('target', targeting_transformer, ['3+ Types of Targeting']),\n",
    "                                       ('curr', curr_transformer, ['Currency Code']),\n",
    "                                       ('scale', scale_transformer, numcols),\n",
    "                                      ('month', month_transformer, ['Month'])\n",
    "                                      ])"
   ]
  },
  {
   "cell_type": "code",
   "execution_count": 29,
   "metadata": {},
   "outputs": [],
   "source": [
    "pl = Pipeline(steps=[('proc', proc), ('reg', RandomForestRegressor())])"
   ]
  },
  {
   "cell_type": "code",
   "execution_count": 30,
   "metadata": {},
   "outputs": [],
   "source": [
    "X_train, X_test, y_train, y_test = train_test_split(ads_copy.drop(['Spend'], axis=1), ads_copy.Spend, random_state=0)"
   ]
  },
  {
   "cell_type": "code",
   "execution_count": 31,
   "metadata": {},
   "outputs": [
    {
     "data": {
      "text/plain": [
       "Pipeline(memory=None,\n",
       "         steps=[('proc',\n",
       "                 ColumnTransformer(n_jobs=None, remainder='drop',\n",
       "                                   sparse_threshold=0.3,\n",
       "                                   transformer_weights=None,\n",
       "                                   transformers=[('cat',\n",
       "                                                  Pipeline(memory=None,\n",
       "                                                           steps=[('cat',\n",
       "                                                                   SelectColumns(cols=['Currency '\n",
       "                                                                                       'Code',\n",
       "                                                                                       'CandidateBallotInformation',\n",
       "                                                                                       'Gender',\n",
       "                                                                                       'AgeBracket',\n",
       "                                                                                       'CountryCode',\n",
       "                                                                                       'Regions '\n",
       "                                                                                       '(Included)',\n",
       "                                                                                       'Regions '\n",
       "                                                                                       '(Excluded)',\n",
       "                                                                                       'Electoral '\n",
       "                                                                                       'Distric...\n",
       "                 RandomForestRegressor(bootstrap=True, ccp_alpha=0.0,\n",
       "                                       criterion='mse', max_depth=None,\n",
       "                                       max_features='auto', max_leaf_nodes=None,\n",
       "                                       max_samples=None,\n",
       "                                       min_impurity_decrease=0.0,\n",
       "                                       min_impurity_split=None,\n",
       "                                       min_samples_leaf=1, min_samples_split=2,\n",
       "                                       min_weight_fraction_leaf=0.0,\n",
       "                                       n_estimators=100, n_jobs=None,\n",
       "                                       oob_score=False, random_state=None,\n",
       "                                       verbose=0, warm_start=False))],\n",
       "         verbose=False)"
      ]
     },
     "execution_count": 31,
     "metadata": {},
     "output_type": "execute_result"
    }
   ],
   "source": [
    "pl.fit(X_train, y_train)"
   ]
  },
  {
   "cell_type": "code",
   "execution_count": 32,
   "metadata": {},
   "outputs": [],
   "source": [
    "preds = pl.predict(ads_copy.drop('Spend', axis=1))"
   ]
  },
  {
   "cell_type": "code",
   "execution_count": 33,
   "metadata": {},
   "outputs": [
    {
     "data": {
      "text/plain": [
       "0.8431982371240335"
      ]
     },
     "execution_count": 33,
     "metadata": {},
     "output_type": "execute_result"
    }
   ],
   "source": [
    "r_score = pl.score(X_test, y_test)\n",
    "r_score"
   ]
  },
  {
   "cell_type": "code",
   "execution_count": 34,
   "metadata": {},
   "outputs": [],
   "source": [
    "out = []\n",
    "for _ in range(10):\n",
    "    X_tr, X_ts, y_tr, y_ts = train_test_split(ads_copy.drop(['Spend'], axis=1), ads_copy.Spend, random_state=0)    \n",
    "    pl.fit(X_tr, y_tr)\n",
    "    score = pl.score(X_ts, y_ts)\n",
    "    out.append(score)"
   ]
  },
  {
   "cell_type": "code",
   "execution_count": 35,
   "metadata": {},
   "outputs": [
    {
     "data": {
      "image/png": "[encoded data removed]",
      "text/plain": [
       "<Figure size 432x288 with 1 Axes>"
      ]
     },
     "metadata": {
      "image/png": {
       "height": 263,
       "width": 388
      },
      "needs_background": "light"
     },
     "output_type": "display_data"
    }
   ],
   "source": [
    "pd.Series(out).plot(kind='hist', title='scores in 50 model builds');"
   ]
  },
  {
   "cell_type": "code",
   "execution_count": 36,
   "metadata": {},
   "outputs": [],
   "source": [
    "models = []\n",
    "model_stds = {}\n",
    "model_scores = {}\n",
    "models.append(('LR', LinearRegression()))\n",
    "models.append(('KNR', KNeighborsRegressor()))\n",
    "models.append(('DTR', DecisionTreeRegressor()))\n",
    "models.append(('AB', AdaBoostRegressor()))\n",
    "models.append(('GBM', GradientBoostingRegressor()))\n",
    "models.append(('RF', RandomForestRegressor()))\n",
    "models.append(('ET', ExtraTreesRegressor()))\n",
    "models = dict(models)"
   ]
  },
  {
   "cell_type": "code",
   "execution_count": 37,
   "metadata": {},
   "outputs": [],
   "source": [
    "results = []\n",
    "names = []\n",
    "X_train = ads_copy.drop('Spend', axis=1)\n",
    "y_train = ads_copy.Spend\n",
    "X_train, X_test, y_train, y_test = train_test_split(X_train, y_train, random_state=0)\n",
    "for name, model in models.items():\n",
    "    pl = Pipeline(steps=[('proc', proc), ('mod', model)])\n",
    "    pl.fit(X_train, y_train)\n",
    "    score = pl.score(X_test, y_test)\n",
    "    cross_val = cross_val_score(pl, X_train, y_train, cv=5)\n",
    "    model_scores[name] = np.median(cross_val)"
   ]
  },
  {
   "cell_type": "code",
   "execution_count": 38,
   "metadata": {},
   "outputs": [
    {
     "data": {
      "text/plain": [
       "{'LR': 0.5064553096561051,\n",
       " 'KNR': 0.38258133391761595,\n",
       " 'DTR': 0.3749539775029713,\n",
       " 'AB': 0.3542900205992945,\n",
       " 'GBM': 0.6680893756124755,\n",
       " 'RF': 0.5153130118583729,\n",
       " 'ET': 0.7038568937490207}"
      ]
     },
     "execution_count": 38,
     "metadata": {},
     "output_type": "execute_result"
    }
   ],
   "source": [
    "model_scores"
   ]
  },
  {
   "cell_type": "code",
   "execution_count": 39,
   "metadata": {},
   "outputs": [],
   "source": [
    "max_score = max(model_scores.values())\n",
    "for name, score in model_scores.items():\n",
    "    if score == max_score:\n",
    "        model_name = name"
   ]
  },
  {
   "cell_type": "code",
   "execution_count": 40,
   "metadata": {},
   "outputs": [
    {
     "data": {
      "text/plain": [
       "ExtraTreesRegressor(bootstrap=False, ccp_alpha=0.0, criterion='mse',\n",
       "                    max_depth=None, max_features='auto', max_leaf_nodes=None,\n",
       "                    max_samples=None, min_impurity_decrease=0.0,\n",
       "                    min_impurity_split=None, min_samples_leaf=1,\n",
       "                    min_samples_split=2, min_weight_fraction_leaf=0.0,\n",
       "                    n_estimators=100, n_jobs=None, oob_score=False,\n",
       "                    random_state=None, verbose=0, warm_start=False)"
      ]
     },
     "execution_count": 40,
     "metadata": {},
     "output_type": "execute_result"
    }
   ],
   "source": [
    "best_model = models[model_name]\n",
    "best_model"
   ]
  },
  {
   "cell_type": "code",
   "execution_count": 41,
   "metadata": {},
   "outputs": [],
   "source": [
    "pl_best_model = Pipeline(steps=[('proc', proc), ('reg', best_model)])"
   ]
  },
  {
   "cell_type": "code",
   "execution_count": 42,
   "metadata": {},
   "outputs": [
    {
     "data": {
      "text/plain": [
       "dict_keys(['memory', 'steps', 'verbose', 'proc', 'reg', 'proc__n_jobs', 'proc__remainder', 'proc__sparse_threshold', 'proc__transformer_weights', 'proc__transformers', 'proc__verbose', 'proc__cat', 'proc__target', 'proc__curr', 'proc__scale', 'proc__month', 'proc__cat__memory', 'proc__cat__steps', 'proc__cat__verbose', 'proc__cat__cat', 'proc__cat__imp', 'proc__cat__ohe', 'proc__cat__PCA', 'proc__cat__cat__cols', 'proc__cat__imp__add_indicator', 'proc__cat__imp__copy', 'proc__cat__imp__fill_value', 'proc__cat__imp__missing_values', 'proc__cat__imp__strategy', 'proc__cat__imp__verbose', 'proc__cat__ohe__categories', 'proc__cat__ohe__drop', 'proc__cat__ohe__dtype', 'proc__cat__ohe__handle_unknown', 'proc__cat__ohe__sparse', 'proc__cat__PCA__copy', 'proc__cat__PCA__iterated_power', 'proc__cat__PCA__n_components', 'proc__cat__PCA__random_state', 'proc__cat__PCA__svd_solver', 'proc__cat__PCA__tol', 'proc__cat__PCA__whiten', 'proc__target__memory', 'proc__target__steps', 'proc__target__verbose', 'proc__target__ohe', 'proc__target__pca', 'proc__target__ohe__categories', 'proc__target__ohe__drop', 'proc__target__ohe__dtype', 'proc__target__ohe__handle_unknown', 'proc__target__ohe__sparse', 'proc__target__pca__copy', 'proc__target__pca__iterated_power', 'proc__target__pca__n_components', 'proc__target__pca__random_state', 'proc__target__pca__svd_solver', 'proc__target__pca__tol', 'proc__target__pca__whiten', 'proc__curr__memory', 'proc__curr__steps', 'proc__curr__verbose', 'proc__curr__curr', 'proc__curr__imp', 'proc__curr__ohe', 'proc__curr__pca', 'proc__curr__curr__cols', 'proc__curr__imp__add_indicator', 'proc__curr__imp__copy', 'proc__curr__imp__fill_value', 'proc__curr__imp__missing_values', 'proc__curr__imp__strategy', 'proc__curr__imp__verbose', 'proc__curr__ohe__categories', 'proc__curr__ohe__drop', 'proc__curr__ohe__dtype', 'proc__curr__ohe__handle_unknown', 'proc__curr__ohe__sparse', 'proc__curr__pca__copy', 'proc__curr__pca__iterated_power', 'proc__curr__pca__n_components', 'proc__curr__pca__random_state', 'proc__curr__pca__svd_solver', 'proc__curr__pca__tol', 'proc__curr__pca__whiten', 'proc__scale__memory', 'proc__scale__steps', 'proc__scale__verbose', 'proc__scale__by', 'proc__scale__imp', 'proc__scale__scale', 'proc__scale__by__cols', 'proc__scale__imp__add_indicator', 'proc__scale__imp__copy', 'proc__scale__imp__fill_value', 'proc__scale__imp__missing_values', 'proc__scale__imp__strategy', 'proc__scale__imp__verbose', 'proc__scale__scale__copy', 'proc__scale__scale__with_mean', 'proc__scale__scale__with_std', 'proc__month__memory', 'proc__month__steps', 'proc__month__verbose', 'proc__month__mon', 'proc__month__imp', 'proc__month__ohe', 'proc__month__pca', 'proc__month__mon__cols', 'proc__month__imp__add_indicator', 'proc__month__imp__copy', 'proc__month__imp__fill_value', 'proc__month__imp__missing_values', 'proc__month__imp__strategy', 'proc__month__imp__verbose', 'proc__month__ohe__categories', 'proc__month__ohe__drop', 'proc__month__ohe__dtype', 'proc__month__ohe__handle_unknown', 'proc__month__ohe__sparse', 'proc__month__pca__copy', 'proc__month__pca__iterated_power', 'proc__month__pca__n_components', 'proc__month__pca__random_state', 'proc__month__pca__svd_solver', 'proc__month__pca__tol', 'proc__month__pca__whiten', 'reg__bootstrap', 'reg__ccp_alpha', 'reg__criterion', 'reg__max_depth', 'reg__max_features', 'reg__max_leaf_nodes', 'reg__max_samples', 'reg__min_impurity_decrease', 'reg__min_impurity_split', 'reg__min_samples_leaf', 'reg__min_samples_split', 'reg__min_weight_fraction_leaf', 'reg__n_estimators', 'reg__n_jobs', 'reg__oob_score', 'reg__random_state', 'reg__verbose', 'reg__warm_start'])"
      ]
     },
     "execution_count": 42,
     "metadata": {},
     "output_type": "execute_result"
    }
   ],
   "source": [
    "pl_best_model.get_params().keys()"
   ]
  },
  {
   "cell_type": "code",
   "execution_count": 43,
   "metadata": {},
   "outputs": [],
   "source": [
    "params = {\n",
    "    'reg__n_estimators': [2, 5, 10, 25, 100, 200],\n",
    "    'reg__max_features': [5, 20, None],\n",
    "    'reg__max_depth': [2, 5, 9, None]\n",
    "}"
   ]
  },
  {
   "cell_type": "code",
   "execution_count": 44,
   "metadata": {},
   "outputs": [],
   "source": [
    "grids = GridSearchCV(pl_best_model, param_grid=params, cv=5)"
   ]
  },
  {
   "cell_type": "code",
   "execution_count": 45,
   "metadata": {},
   "outputs": [
    {
     "data": {
      "text/plain": [
       "GridSearchCV(cv=5, error_score=nan,\n",
       "             estimator=Pipeline(memory=None,\n",
       "                                steps=[('proc',\n",
       "                                        ColumnTransformer(n_jobs=None,\n",
       "                                                          remainder='drop',\n",
       "                                                          sparse_threshold=0.3,\n",
       "                                                          transformer_weights=None,\n",
       "                                                          transformers=[('cat',\n",
       "                                                                         Pipeline(memory=None,\n",
       "                                                                                  steps=[('cat',\n",
       "                                                                                          SelectColumns(cols=['Currency '\n",
       "                                                                                                              'Code',\n",
       "                                                                                                              'CandidateBallotInformation',\n",
       "                                                                                                              'Gender',\n",
       "                                                                                                              'AgeBracket',\n",
       "                                                                                                              'CountryCode',\n",
       "                                                                                                              'Regions '\n",
       "                                                                                                              '(Included...\n",
       "                                                            min_weight_fraction_leaf=0.0,\n",
       "                                                            n_estimators=100,\n",
       "                                                            n_jobs=None,\n",
       "                                                            oob_score=False,\n",
       "                                                            random_state=None,\n",
       "                                                            verbose=0,\n",
       "                                                            warm_start=False))],\n",
       "                                verbose=False),\n",
       "             iid='deprecated', n_jobs=None,\n",
       "             param_grid={'reg__max_depth': [2, 5, 9, None],\n",
       "                         'reg__max_features': [5, 20, None],\n",
       "                         'reg__n_estimators': [2, 5, 10, 25, 100, 200]},\n",
       "             pre_dispatch='2*n_jobs', refit=True, return_train_score=False,\n",
       "             scoring=None, verbose=0)"
      ]
     },
     "execution_count": 45,
     "metadata": {},
     "output_type": "execute_result"
    }
   ],
   "source": [
    "grids.fit(X_train, y_train)"
   ]
  },
  {
   "cell_type": "code",
   "execution_count": 46,
   "metadata": {},
   "outputs": [
    {
     "data": {
      "text/plain": [
       "{'reg__max_depth': None, 'reg__max_features': 20, 'reg__n_estimators': 100}"
      ]
     },
     "execution_count": 46,
     "metadata": {},
     "output_type": "execute_result"
    }
   ],
   "source": [
    "grids.best_params_"
   ]
  },
  {
   "cell_type": "code",
   "execution_count": 47,
   "metadata": {},
   "outputs": [],
   "source": [
    "pl_best = grids.best_estimator_"
   ]
  },
  {
   "cell_type": "code",
   "execution_count": 48,
   "metadata": {},
   "outputs": [
    {
     "data": {
      "text/plain": [
       "Pipeline(memory=None,\n",
       "         steps=[('proc',\n",
       "                 ColumnTransformer(n_jobs=None, remainder='drop',\n",
       "                                   sparse_threshold=0.3,\n",
       "                                   transformer_weights=None,\n",
       "                                   transformers=[('cat',\n",
       "                                                  Pipeline(memory=None,\n",
       "                                                           steps=[('cat',\n",
       "                                                                   SelectColumns(cols=['Currency '\n",
       "                                                                                       'Code',\n",
       "                                                                                       'CandidateBallotInformation',\n",
       "                                                                                       'Gender',\n",
       "                                                                                       'AgeBracket',\n",
       "                                                                                       'CountryCode',\n",
       "                                                                                       'Regions '\n",
       "                                                                                       '(Included)',\n",
       "                                                                                       'Regions '\n",
       "                                                                                       '(Excluded)',\n",
       "                                                                                       'Electoral '\n",
       "                                                                                       'Distric...\n",
       "                 ExtraTreesRegressor(bootstrap=False, ccp_alpha=0.0,\n",
       "                                     criterion='mse', max_depth=None,\n",
       "                                     max_features=20, max_leaf_nodes=None,\n",
       "                                     max_samples=None,\n",
       "                                     min_impurity_decrease=0.0,\n",
       "                                     min_impurity_split=None,\n",
       "                                     min_samples_leaf=1, min_samples_split=2,\n",
       "                                     min_weight_fraction_leaf=0.0,\n",
       "                                     n_estimators=100, n_jobs=None,\n",
       "                                     oob_score=False, random_state=None,\n",
       "                                     verbose=0, warm_start=False))],\n",
       "         verbose=False)"
      ]
     },
     "execution_count": 48,
     "metadata": {},
     "output_type": "execute_result"
    }
   ],
   "source": [
    "pl_best.fit(X_train, y_train)"
   ]
  },
  {
   "cell_type": "code",
   "execution_count": 49,
   "metadata": {},
   "outputs": [
    {
     "data": {
      "text/plain": [
       "0.8820622621671941"
      ]
     },
     "execution_count": 49,
     "metadata": {},
     "output_type": "execute_result"
    }
   ],
   "source": [
    "pl_best.score(X_test, y_test)"
   ]
  },
  {
   "cell_type": "code",
   "execution_count": 50,
   "metadata": {},
   "outputs": [
    {
     "data": {
      "text/plain": [
       "0.8820622621671941"
      ]
     },
     "execution_count": 50,
     "metadata": {},
     "output_type": "execute_result"
    }
   ],
   "source": [
    "preds = pl_best.predict(X_test)\n",
    "r_2_pr = r2_score(y_test, preds)\n",
    "r_2_pr"
   ]
  },
  {
   "cell_type": "code",
   "execution_count": 51,
   "metadata": {},
   "outputs": [],
   "source": [
    "out = []\n",
    "for _ in range(10):\n",
    "    X_tr, X_ts, y_tr, y_ts = train_test_split(ads_copy.drop(['Spend'], axis=1), ads_copy.Spend, random_state=0)    \n",
    "    pl_best.fit(X_tr, y_tr)\n",
    "    score = pl_best.score(X_ts, y_ts)\n",
    "    out.append(score)"
   ]
  },
  {
   "cell_type": "code",
   "execution_count": 52,
   "metadata": {},
   "outputs": [
    {
     "data": {
      "image/png": "[encoded data removed]",
      "text/plain": [
       "<Figure size 432x288 with 1 Axes>"
      ]
     },
     "metadata": {
      "image/png": {
       "height": 263,
       "width": 391
      },
      "needs_background": "light"
     },
     "output_type": "display_data"
    }
   ],
   "source": [
    "pd.Series(out).plot(kind='hist', title='scores in 50 model builds');"
   ]
  },
  {
   "cell_type": "markdown",
   "metadata": {},
   "source": [
    "### Fairness Evaluation"
   ]
  },
  {
   "cell_type": "markdown",
   "metadata": {},
   "source": [
    "Null Hypothesis: My model is fair, the precision for my two subsets are roughly the same\n",
    "\n",
    "Alternate Hypothesis: My model is unfair, the precision for my subsets are different"
   ]
  },
  {
   "cell_type": "code",
   "execution_count": 62,
   "metadata": {},
   "outputs": [],
   "source": [
    "binarize_views = Binarizer(threshold=100000)\n",
    "new_impressions = binarize_views.fit_transform(ads_copy[['Impressions']])\n",
    "df = pd.DataFrame(new_impressions, columns=['Views'])\n",
    "less_than_hundred_indices = df[df['Views'] == 0].index\n",
    "hundred_plus_indices = df[df['Views'] == 1].index\n",
    "less_than_hundred = ads_copy.loc[less_than_hundred_indices]\n",
    "more_than_hundred = ads_copy.loc[hundred_plus_indices]"
   ]
  },
  {
   "cell_type": "code",
   "execution_count": 63,
   "metadata": {},
   "outputs": [],
   "source": [
    "shuffled_less_views = less_than_hundred['Impressions'].sample(replace=False, frac=1).reset_index(drop=True)\n",
    "original_and_shuffled_less = less_than_hundred.assign(**{'Shuffled Impressions': shuffled_less_views})"
   ]
  },
  {
   "cell_type": "code",
   "execution_count": 64,
   "metadata": {},
   "outputs": [],
   "source": [
    "shuffled_more_views = more_than_hundred['Impressions'].sample(replace=False, frac=1).reset_index(drop=True)\n",
    "original_and_shuffled_more = less_than_hundred.assign(**{'Shuffled Impressions': shuffled_more_views})"
   ]
  },
  {
   "cell_type": "code",
   "execution_count": 70,
   "metadata": {},
   "outputs": [],
   "source": [
    "n_repetitions = 50\n",
    "diffs = []\n",
    "for _ in range(n_repetitions):\n",
    "    shuffled_less_views = less_than_hundred['Impressions'].sample(replace=False, frac=1).reset_index(drop=True)\n",
    "    shuffled_less = less_than_hundred.assign(Impressions=shuffled_less_views)\n",
    "    shuffled_more_views = more_than_hundred['Impressions'].sample(replace=False, frac=1).reset_index(drop=True)\n",
    "    shuffled_more = less_than_hundred.assign(Impressions=shuffled_more_views)\n",
    "    X_less_train, X_less_test, y_less_train, y_less_test = train_test_split(shuffled_less.drop('Spend', axis=1), shuffled_less.Spend, random_state=0)\n",
    "    X_more_train, X_more_test, y_more_train, y_more_test = train_test_split(shuffled_more.drop('Spend', axis=1), shuffled_more.Spend, random_state=0)\n",
    "    pl_best.fit(X_less_train, y_less_train)\n",
    "    preds_less = pl_best.predict(X_less_test)\n",
    "    pl_best.fit(X_more_train, y_more_train)\n",
    "    preds_more = pl_best.predict(X_more_test)\n",
    "    less_r_2 = r2_score(y_less_test, preds_less)\n",
    "    more_r_2 = r2_score(y_more_test, preds_more)\n",
    "    diff_score = less_r_2 - more_r_2\n",
    "    diffs.append(diff_score)\n",
    "X_obs_less_train, X_obs_less_test, y_obs_less_train, y_obs_less_test = train_test_split(less_than_hundred.drop('Spend', axis=1), less_than_hundred.Spend, random_state=0)\n",
    "X_obs_more_train, X_obs_more_test, y_obs_more_train, y_obs_more_test = train_test_split(more_than_hundred.drop('Spend', axis=1), more_than_hundred.Spend, random_state=0)\n",
    "pl_best.fit(X_obs_less_train, y_obs_less_train)\n",
    "preds_obs_less = pl_best.predict(X_obs_less_test)\n",
    "pl_best.fit(X_obs_more_train, y_obs_more_train)\n",
    "preds_obs_more = pl_best.predict(X_obs_more_test)\n",
    "less_r_2_obs = r2_score(y_obs_less_test, preds_obs_less)\n",
    "more_r_2_obs = r2_score(y_obs_more_test, preds_obs_more)"
   ]
  },
  {
   "cell_type": "code",
   "execution_count": 77,
   "metadata": {},
   "outputs": [
    {
     "data": {
      "text/plain": [
       "0.15547675721945986"
      ]
     },
     "execution_count": 77,
     "metadata": {},
     "output_type": "execute_result"
    }
   ],
   "source": [
    "obs_diff = less_r_2_obs - more_r_2_obs\n",
    "obs_diff"
   ]
  },
  {
   "cell_type": "code",
   "execution_count": 75,
   "metadata": {},
   "outputs": [
    {
     "data": {
      "text/plain": [
       "-0.14773456153264075"
      ]
     },
     "execution_count": 75,
     "metadata": {},
     "output_type": "execute_result"
    }
   ],
   "source": [
    "p_val = np.count_nonzero(diffs > obs_diff) / n_repetitions\n",
    "p_val\n",
    "diff_score"
   ]
  },
  {
   "cell_type": "code",
   "execution_count": 72,
   "metadata": {},
   "outputs": [
    {
     "data": {
      "image/png": "[encoded data removed]",
      "text/plain": [
       "<Figure size 432x288 with 1 Axes>"
      ]
     },
     "metadata": {
      "image/png": {
       "height": 263,
       "width": 607
      },
      "needs_background": "light"
     },
     "output_type": "display_data"
    }
   ],
   "source": [
    "title = 'Differences in R_2 Scores for ads with less than 100k views and more than 100k views (less-more)'\n",
    "pd.Series(diffs).plot(kind='hist', density=True, title=title)\n",
    "plt.scatter(obs_diff, 0, color='red', s=40);"
   ]
  },
  {
   "cell_type": "code",
   "execution_count": null,
   "metadata": {},
   "outputs": [],
   "source": []
  }
 ],
 "metadata": {
  "kernelspec": {
   "display_name": "Python 3",
   "language": "python",
   "name": "python3"
  },
  "language_info": {
   "codemirror_mode": {
    "name": "ipython",
    "version": 3
   },
   "file_extension": ".py",
   "mimetype": "text/x-python",
   "name": "python",
   "nbconvert_exporter": "python",
   "pygments_lexer": "ipython3",
   "version": "3.7.3"
  }
 },
 "nbformat": 4,
 "nbformat_minor": 2
}
